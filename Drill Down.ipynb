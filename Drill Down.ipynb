{
 "cells": [
  {
   "cell_type": "code",
   "execution_count": 72,
   "id": "f45c125b-79d6-405e-9149-097956498fce",
   "metadata": {},
   "outputs": [],
   "source": [
    "from dotenv import load_dotenv\n",
    "load_dotenv()\n",
    "\n",
    "import json\n",
    "\n",
    "with open(\"user_cv.json\",'r') as file:\n",
    "    user = json.load(file)\n",
    "\n",
    "def get_compliation(system_message, user_input, api_key=None):\n",
    "    from openai import OpenAI\n",
    "\n",
    "    if not api_key:\n",
    "        api_key = os.environ['OPENAI_API_KEY']\n",
    "\n",
    "    client = OpenAI(api_key=api_key)\n",
    "    stream = client.chat.completions.create(\n",
    "        model=\"gpt-3.5-turbo\",\n",
    "        messages=[\n",
    "            {\"role\": \"system\", \"content\": system_message},\n",
    "            {\"role\": \"user\", \"content\": user_input},\n",
    "        ],\n",
    "        stream=False,\n",
    "    )\n",
    "    return stream"
   ]
  },
  {
   "cell_type": "code",
   "execution_count": 73,
   "id": "71d04847-a48d-4278-9f90-113c4c5d8c73",
   "metadata": {},
   "outputs": [
    {
     "name": "stdout",
     "output_type": "stream",
     "text": [
      "Let's start with education\n"
     ]
    },
    {
     "data": {
      "text/plain": [
       "[{'degree': 'Full Matriculation',\n",
       "  'institution': 'Kfar Ganim “Amit” high School',\n",
       "  'location': '',\n",
       "  'start_date': '2010',\n",
       "  'graduation_date': '2013',\n",
       "  'grade': ''},\n",
       " {'degree': 'Pre-Med and Biology',\n",
       "  'institution': 'Tel Aviv University',\n",
       "  'location': 'Tel Aviv',\n",
       "  'start_date': '2020',\n",
       "  'graduation_date': '2021',\n",
       "  'grade': ''},\n",
       " {'degree': 'Computer science and Biology with specialisation in Bioinformatics',\n",
       "  'institution': 'Tel Aviv University',\n",
       "  'location': 'Tel Aviv',\n",
       "  'start_date': '2022',\n",
       "  'graduation_date': '2025',\n",
       "  'grade': ''}]"
      ]
     },
     "execution_count": 73,
     "metadata": {},
     "output_type": "execute_result"
    }
   ],
   "source": [
    "print(\"Let's start with education\")\n",
    "\n",
    "education = sorted(user['education'],key=lambda x: x['start_date'])\n",
    "education"
   ]
  },
  {
   "cell_type": "code",
   "execution_count": 74,
   "id": "1e9f959e-d2ec-40ee-9705-896c29d59369",
   "metadata": {},
   "outputs": [],
   "source": [
    "prompt = f\"\"\"\n",
    "I need you to interview me about this period in my life\n",
    "{json.dumps(education[0],indent=4)}\n",
    "You Goal is to asses what skills I've gained during this time.\n",
    "What questions you will ask?\n",
    "\n",
    "Response format:\n",
    "```json\n",
    "[\n",
    "    {{\n",
    "     \"question\": \"the question to ask\",\n",
    "     \"expection\": \"what you expected to learn from the user answer\"\n",
    "    }}\n",
    "    // more if needed\n",
    "]\n",
    "```\n",
    "\"\"\"\n",
    "response = get_compliation(\"\",prompt)"
   ]
  },
  {
   "cell_type": "code",
   "execution_count": 75,
   "id": "24307e47-cff2-410a-980b-b5fc34510b30",
   "metadata": {},
   "outputs": [],
   "source": [
    "education_question = json.loads(response.choices[0].message.content.replace(\"```json\",\"\").replace(\"```\",\"\"))"
   ]
  },
  {
   "cell_type": "code",
   "execution_count": 76,
   "id": "d7c97d8f-0e1e-40fd-8fc0-89a191cb7710",
   "metadata": {},
   "outputs": [
    {
     "data": {
      "text/plain": [
       "[{'question': 'What subjects did you enjoy the most during your time at Kfar Ganim “Amit” high School?',\n",
       "  'expectation': 'To learn about the subjects that you were passionate about and possibly excelled in, indicating strong interest and potential skills in those areas.'},\n",
       " {'question': 'Did you participate in any extracurricular activities or clubs while in high school? If so, which ones and what role did you have?',\n",
       "  'expectation': 'To understand if you were involved in activities that may have developed teamwork, leadership, or other valuable skills outside of the traditional classroom setting.'},\n",
       " {'question': 'Can you recall a challenging project or assignment you had to complete during your high school years? How did you manage to overcome the challenge?',\n",
       "  'expectation': 'To assess your problem-solving abilities, resilience, and perseverance in facing academic challenges.'},\n",
       " {'question': 'Did you take on any leadership roles in school, such as being a class representative or leading a team project? If yes, can you give an example and explain the skills you developed in that role?',\n",
       "  'expectation': 'To understand if you have gained skills in leadership, communication, decision-making, and teamwork through taking on responsibilities like being a leader in a school setting.'},\n",
       " {'question': 'How did you balance your academic workload, extracurricular activities, and any personal commitments during your time at high school?',\n",
       "  'expectation': 'To determine your time management skills, organizational abilities, and how well you handle multiple responsibilities simultaneously.'}]"
      ]
     },
     "execution_count": 76,
     "metadata": {},
     "output_type": "execute_result"
    }
   ],
   "source": [
    "education_question"
   ]
  },
  {
   "cell_type": "code",
   "execution_count": 78,
   "id": "f72e6257-bfcf-45c3-b73b-c9a9a41fab76",
   "metadata": {},
   "outputs": [
    {
     "name": "stdout",
     "output_type": "stream",
     "text": [
      "Q: What subjects did you enjoy the most during your time at Kfar Ganim “Amit” high School?\n"
     ]
    },
    {
     "name": "stdin",
     "output_type": "stream",
     "text": [
      " ss\n"
     ]
    }
   ],
   "source": [
    "for entry in education_question[:1]:\n",
    "    print(f\"Q: {entry['question']}\")\n",
    "    answer = input()\n",
    "    entry['answer'] = answer\n"
   ]
  },
  {
   "cell_type": "code",
   "execution_count": 79,
   "id": "8653f95b-7be5-48cc-ae99-c08add574df3",
   "metadata": {},
   "outputs": [
    {
     "name": "stdout",
     "output_type": "stream",
     "text": [
      "Let's start with experience\n"
     ]
    },
    {
     "data": {
      "text/plain": [
       "[{'title': 'Independent Psychometrics and Mathematics Tutor',\n",
       "  'company': '',\n",
       "  'location': '',\n",
       "  'start_date': '2019',\n",
       "  'end_date': '2020',\n",
       "  'responsibilities': ['Designed personalized study plans and conducted effective teaching sessions to enhance student’s performance'],\n",
       "  'keywords': []},\n",
       " {'title': 'Psychometric Essay Examiner',\n",
       "  'company': 'The Psychometric of the State',\n",
       "  'location': '',\n",
       "  'start_date': '2020',\n",
       "  'end_date': '2021',\n",
       "  'responsibilities': ['Evaluated and assessed psychometric essays'],\n",
       "  'keywords': []},\n",
       " {'title': 'Network Control Center',\n",
       "  'company': 'Tel Aviv University',\n",
       "  'location': 'Tel Aviv',\n",
       "  'start_date': '2023',\n",
       "  'end_date': '2024',\n",
       "  'responsibilities': ['Monitoring network issues and serving as the primary contact for initial incident response (Troubleshooting)'],\n",
       "  'keywords': []},\n",
       " {'title': 'Data Analyst & Engineering',\n",
       "  'company': 'Tel Aviv University',\n",
       "  'location': 'Tel Aviv',\n",
       "  'start_date': '2024',\n",
       "  'end_date': 'current',\n",
       "  'responsibilities': ['Analysis and Engineering of Databases as part of ML tool pipeline using Pandas, Numpy, Statistics'],\n",
       "  'keywords': []}]"
      ]
     },
     "execution_count": 79,
     "metadata": {},
     "output_type": "execute_result"
    }
   ],
   "source": [
    "print(\"Let's start with experience\")\n",
    "\n",
    "experience = sorted(user['experience'],key=lambda x: x['start_date'])\n",
    "experience"
   ]
  },
  {
   "cell_type": "code",
   "execution_count": 90,
   "id": "d49b7aa5-02ea-41de-a5f1-bf058c88adc8",
   "metadata": {},
   "outputs": [],
   "source": [
    "\n",
    "experience_test = experience[1]\n",
    "system_prompt = f\"\"\"\n",
    "You are interviewing me about this period in my life:\n",
    "{json.dumps(experience_test,indent=4)}\n",
    "You Goal is to asses what skills I've gained during this time.\n",
    "When you think that you've understood the skill set I've gained you can respond with 'quit'.\n",
    "\n",
    "Response format:\n",
    "```json\n",
    "{{\n",
    " \"question\": \"the question to ask\",\n",
    " \"message\": \"the message to send the user, that contains the question. be nice!\",\n",
    " \"expectation\": \"what you expected to learn from the user answer\"\n",
    "}}\n",
    "```\n",
    "only one question at a time.\n",
    "\"\"\""
   ]
  },
  {
   "cell_type": "code",
   "execution_count": 91,
   "id": "a8ed38ce-5603-4b2f-b7de-1b06f6108da4",
   "metadata": {},
   "outputs": [
    {
     "data": {
      "text/plain": [
       "'The Psychometric of the State'"
      ]
     },
     "execution_count": 91,
     "metadata": {},
     "output_type": "execute_result"
    }
   ],
   "source": [
    "experience_test['company']"
   ]
  },
  {
   "cell_type": "code",
   "execution_count": 92,
   "id": "4fb2be11-fde8-4c15-b83a-2d978df2f3ae",
   "metadata": {},
   "outputs": [
    {
     "name": "stdout",
     "output_type": "stream",
     "text": [
      "Start chatting with the bot (type 'quit' to stop)!\n",
      "Bot: Let's talk about your time at The Psychometric of the State\n",
      "Bot: That sounds like an interesting role! Can you walk me through how you evaluated and assessed psychometric essays?\n"
     ]
    },
    {
     "name": "stdin",
     "output_type": "stream",
     "text": [
      "User:  i build weekly reports by assinsng diffrent task the students take\n"
     ]
    },
    {
     "name": "stdout",
     "output_type": "stream",
     "text": [
      "Bot: It's great that you built weekly reports for the students! How did you decide on the criteria to assess their tasks in the psychometric essays?\n"
     ]
    },
    {
     "name": "stdin",
     "output_type": "stream",
     "text": [
      "User:  by pre built critiria i have learned as a student myself \n"
     ]
    },
    {
     "ename": "JSONDecodeError",
     "evalue": "Expecting value: line 1 column 1 (char 0)",
     "output_type": "error",
     "traceback": [
      "\u001b[0;31m---------------------------------------------------------------------------\u001b[0m",
      "\u001b[0;31mJSONDecodeError\u001b[0m                           Traceback (most recent call last)",
      "Cell \u001b[0;32mIn[92], line 43\u001b[0m\n\u001b[1;32m     41\u001b[0m \u001b[38;5;28;01mif\u001b[39;00m \u001b[38;5;18m__name__\u001b[39m \u001b[38;5;241m==\u001b[39m \u001b[38;5;124m\"\u001b[39m\u001b[38;5;124m__main__\u001b[39m\u001b[38;5;124m\"\u001b[39m:\n\u001b[1;32m     42\u001b[0m   \u001b[38;5;28mprint\u001b[39m(\u001b[38;5;124m\"\u001b[39m\u001b[38;5;124mStart chatting with the bot (type \u001b[39m\u001b[38;5;124m'\u001b[39m\u001b[38;5;124mquit\u001b[39m\u001b[38;5;124m'\u001b[39m\u001b[38;5;124m to stop)!\u001b[39m\u001b[38;5;124m\"\u001b[39m)\n\u001b[0;32m---> 43\u001b[0m   \u001b[43mchatbot\u001b[49m\u001b[43m(\u001b[49m\u001b[43m)\u001b[49m\n",
      "Cell \u001b[0;32mIn[92], line 26\u001b[0m, in \u001b[0;36mchatbot\u001b[0;34m()\u001b[0m\n\u001b[1;32m     20\u001b[0m stream \u001b[38;5;241m=\u001b[39m client\u001b[38;5;241m.\u001b[39mchat\u001b[38;5;241m.\u001b[39mcompletions\u001b[38;5;241m.\u001b[39mcreate(\n\u001b[1;32m     21\u001b[0m   model\u001b[38;5;241m=\u001b[39m\u001b[38;5;124m\"\u001b[39m\u001b[38;5;124mgpt-3.5-turbo\u001b[39m\u001b[38;5;124m\"\u001b[39m,\n\u001b[1;32m     22\u001b[0m   messages\u001b[38;5;241m=\u001b[39mmessages\n\u001b[1;32m     23\u001b[0m )\n\u001b[1;32m     25\u001b[0m \u001b[38;5;66;03m# Print the response and add it to the messages list\u001b[39;00m\n\u001b[0;32m---> 26\u001b[0m chat_message \u001b[38;5;241m=\u001b[39m \u001b[43mjson\u001b[49m\u001b[38;5;241;43m.\u001b[39;49m\u001b[43mloads\u001b[49m\u001b[43m(\u001b[49m\u001b[43mstream\u001b[49m\u001b[38;5;241;43m.\u001b[39;49m\u001b[43mchoices\u001b[49m\u001b[43m[\u001b[49m\u001b[38;5;241;43m0\u001b[39;49m\u001b[43m]\u001b[49m\u001b[38;5;241;43m.\u001b[39;49m\u001b[43mmessage\u001b[49m\u001b[38;5;241;43m.\u001b[39;49m\u001b[43mcontent\u001b[49m\u001b[38;5;241;43m.\u001b[39;49m\u001b[43mreplace\u001b[49m\u001b[43m(\u001b[49m\u001b[38;5;124;43m\"\u001b[39;49m\u001b[38;5;124;43m```json\u001b[39;49m\u001b[38;5;124;43m\"\u001b[39;49m\u001b[43m,\u001b[49m\u001b[38;5;124;43m\"\u001b[39;49m\u001b[38;5;124;43m\"\u001b[39;49m\u001b[43m)\u001b[49m\u001b[38;5;241;43m.\u001b[39;49m\u001b[43mreplace\u001b[49m\u001b[43m(\u001b[49m\u001b[38;5;124;43m\"\u001b[39;49m\u001b[38;5;124;43m```\u001b[39;49m\u001b[38;5;124;43m\"\u001b[39;49m\u001b[43m,\u001b[49m\u001b[38;5;124;43m\"\u001b[39;49m\u001b[38;5;124;43m\"\u001b[39;49m\u001b[43m)\u001b[49m\u001b[43m)\u001b[49m\n\u001b[1;32m     27\u001b[0m \u001b[38;5;28mprint\u001b[39m(\u001b[38;5;124mf\u001b[39m\u001b[38;5;124m\"\u001b[39m\u001b[38;5;124mBot: \u001b[39m\u001b[38;5;132;01m{\u001b[39;00mchat_message[\u001b[38;5;124m'\u001b[39m\u001b[38;5;124mmessage\u001b[39m\u001b[38;5;124m'\u001b[39m]\u001b[38;5;132;01m}\u001b[39;00m\u001b[38;5;124m\"\u001b[39m)\n\u001b[1;32m     29\u001b[0m \u001b[38;5;66;03m# Prompt user for input\u001b[39;00m\n",
      "File \u001b[0;32m/usr/local/lib/python3.11/json/__init__.py:346\u001b[0m, in \u001b[0;36mloads\u001b[0;34m(s, cls, object_hook, parse_float, parse_int, parse_constant, object_pairs_hook, **kw)\u001b[0m\n\u001b[1;32m    341\u001b[0m     s \u001b[38;5;241m=\u001b[39m s\u001b[38;5;241m.\u001b[39mdecode(detect_encoding(s), \u001b[38;5;124m'\u001b[39m\u001b[38;5;124msurrogatepass\u001b[39m\u001b[38;5;124m'\u001b[39m)\n\u001b[1;32m    343\u001b[0m \u001b[38;5;28;01mif\u001b[39;00m (\u001b[38;5;28mcls\u001b[39m \u001b[38;5;129;01mis\u001b[39;00m \u001b[38;5;28;01mNone\u001b[39;00m \u001b[38;5;129;01mand\u001b[39;00m object_hook \u001b[38;5;129;01mis\u001b[39;00m \u001b[38;5;28;01mNone\u001b[39;00m \u001b[38;5;129;01mand\u001b[39;00m\n\u001b[1;32m    344\u001b[0m         parse_int \u001b[38;5;129;01mis\u001b[39;00m \u001b[38;5;28;01mNone\u001b[39;00m \u001b[38;5;129;01mand\u001b[39;00m parse_float \u001b[38;5;129;01mis\u001b[39;00m \u001b[38;5;28;01mNone\u001b[39;00m \u001b[38;5;129;01mand\u001b[39;00m\n\u001b[1;32m    345\u001b[0m         parse_constant \u001b[38;5;129;01mis\u001b[39;00m \u001b[38;5;28;01mNone\u001b[39;00m \u001b[38;5;129;01mand\u001b[39;00m object_pairs_hook \u001b[38;5;129;01mis\u001b[39;00m \u001b[38;5;28;01mNone\u001b[39;00m \u001b[38;5;129;01mand\u001b[39;00m \u001b[38;5;129;01mnot\u001b[39;00m kw):\n\u001b[0;32m--> 346\u001b[0m     \u001b[38;5;28;01mreturn\u001b[39;00m \u001b[43m_default_decoder\u001b[49m\u001b[38;5;241;43m.\u001b[39;49m\u001b[43mdecode\u001b[49m\u001b[43m(\u001b[49m\u001b[43ms\u001b[49m\u001b[43m)\u001b[49m\n\u001b[1;32m    347\u001b[0m \u001b[38;5;28;01mif\u001b[39;00m \u001b[38;5;28mcls\u001b[39m \u001b[38;5;129;01mis\u001b[39;00m \u001b[38;5;28;01mNone\u001b[39;00m:\n\u001b[1;32m    348\u001b[0m     \u001b[38;5;28mcls\u001b[39m \u001b[38;5;241m=\u001b[39m JSONDecoder\n",
      "File \u001b[0;32m/usr/local/lib/python3.11/json/decoder.py:337\u001b[0m, in \u001b[0;36mJSONDecoder.decode\u001b[0;34m(self, s, _w)\u001b[0m\n\u001b[1;32m    332\u001b[0m \u001b[38;5;28;01mdef\u001b[39;00m \u001b[38;5;21mdecode\u001b[39m(\u001b[38;5;28mself\u001b[39m, s, _w\u001b[38;5;241m=\u001b[39mWHITESPACE\u001b[38;5;241m.\u001b[39mmatch):\n\u001b[1;32m    333\u001b[0m \u001b[38;5;250m    \u001b[39m\u001b[38;5;124;03m\"\"\"Return the Python representation of ``s`` (a ``str`` instance\u001b[39;00m\n\u001b[1;32m    334\u001b[0m \u001b[38;5;124;03m    containing a JSON document).\u001b[39;00m\n\u001b[1;32m    335\u001b[0m \n\u001b[1;32m    336\u001b[0m \u001b[38;5;124;03m    \"\"\"\u001b[39;00m\n\u001b[0;32m--> 337\u001b[0m     obj, end \u001b[38;5;241m=\u001b[39m \u001b[38;5;28;43mself\u001b[39;49m\u001b[38;5;241;43m.\u001b[39;49m\u001b[43mraw_decode\u001b[49m\u001b[43m(\u001b[49m\u001b[43ms\u001b[49m\u001b[43m,\u001b[49m\u001b[43m \u001b[49m\u001b[43midx\u001b[49m\u001b[38;5;241;43m=\u001b[39;49m\u001b[43m_w\u001b[49m\u001b[43m(\u001b[49m\u001b[43ms\u001b[49m\u001b[43m,\u001b[49m\u001b[43m \u001b[49m\u001b[38;5;241;43m0\u001b[39;49m\u001b[43m)\u001b[49m\u001b[38;5;241;43m.\u001b[39;49m\u001b[43mend\u001b[49m\u001b[43m(\u001b[49m\u001b[43m)\u001b[49m\u001b[43m)\u001b[49m\n\u001b[1;32m    338\u001b[0m     end \u001b[38;5;241m=\u001b[39m _w(s, end)\u001b[38;5;241m.\u001b[39mend()\n\u001b[1;32m    339\u001b[0m     \u001b[38;5;28;01mif\u001b[39;00m end \u001b[38;5;241m!=\u001b[39m \u001b[38;5;28mlen\u001b[39m(s):\n",
      "File \u001b[0;32m/usr/local/lib/python3.11/json/decoder.py:355\u001b[0m, in \u001b[0;36mJSONDecoder.raw_decode\u001b[0;34m(self, s, idx)\u001b[0m\n\u001b[1;32m    353\u001b[0m     obj, end \u001b[38;5;241m=\u001b[39m \u001b[38;5;28mself\u001b[39m\u001b[38;5;241m.\u001b[39mscan_once(s, idx)\n\u001b[1;32m    354\u001b[0m \u001b[38;5;28;01mexcept\u001b[39;00m \u001b[38;5;167;01mStopIteration\u001b[39;00m \u001b[38;5;28;01mas\u001b[39;00m err:\n\u001b[0;32m--> 355\u001b[0m     \u001b[38;5;28;01mraise\u001b[39;00m JSONDecodeError(\u001b[38;5;124m\"\u001b[39m\u001b[38;5;124mExpecting value\u001b[39m\u001b[38;5;124m\"\u001b[39m, s, err\u001b[38;5;241m.\u001b[39mvalue) \u001b[38;5;28;01mfrom\u001b[39;00m \u001b[38;5;28;01mNone\u001b[39;00m\n\u001b[1;32m    356\u001b[0m \u001b[38;5;28;01mreturn\u001b[39;00m obj, end\n",
      "\u001b[0;31mJSONDecodeError\u001b[0m: Expecting value: line 1 column 1 (char 0)"
     ]
    }
   ],
   "source": [
    "from openai import OpenAI\n",
    "import os\n",
    "import json\n",
    "\n",
    "# Load your API key from an environment variable or secret management service\n",
    "api_key = os.environ['OPENAI_API_KEY']\n",
    "\n",
    "def chatbot():\n",
    "  print(f\"Bot: Let's talk about your time at {experience_test['company']}\")\n",
    "  # Create a list to store all the messages for context\n",
    "  messages = [\n",
    "    {\"role\": \"system\", \"content\": system_prompt},\n",
    "  ]\n",
    "\n",
    "  # Keep repeating the following\n",
    "  while True:\n",
    "\n",
    "    # Request gpt-3.5-turbo for chat completion\n",
    "    client = OpenAI(api_key=api_key)\n",
    "    \n",
    "    max_retries = 3\n",
    "    retry_count = 0\n",
    "    \n",
    "    while retry_count < max_retries:\n",
    "        try:\n",
    "            stream = client.chat.completions.create(\n",
    "                model=\"gpt-3.5-turbo\",\n",
    "                messages=messages\n",
    "            )\n",
    "            chat_message = json.loads(stream.choices[0].message.content.replace(\"```json\",\"\").replace(\"```\",\"\"))\n",
    "            break  # Break out of the loop if successful\n",
    "        except json.JSONDecodeError as e:\n",
    "            retry_count += 1\n",
    "            if retry_count == max_retries:\n",
    "                raise e\n",
    "            else:\n",
    "                print(\"Bot: ....\")\n",
    "                \n",
    "\n",
    "    # Print the response and add it to the messages list\n",
    "    print(f\"Bot: {chat_message['message']}\")\n",
    "\n",
    "    # Prompt user for input\n",
    "    message = input(\"User: \")\n",
    "\n",
    "    # Exit program if user inputs \"quit\"\n",
    "    if message.lower() == \"quit\":\n",
    "      break\n",
    "\n",
    "    # Add each new message to the list\n",
    "    messages.append({\"role\": \"assistant\", \"content\": json.dumps(chat_message,indent=4)})\n",
    "    messages.append({\"role\": \"user\", \"content\": message})\n",
    "    \n",
    "\n",
    "if __name__ == \"__main__\":\n",
    "  print(\"Start chatting with the bot (type 'quit' to stop)!\")\n",
    "  chatbot()"
   ]
  },
  {
   "cell_type": "code",
   "execution_count": null,
   "id": "8e0a5953-682e-456f-baee-349971218e1e",
   "metadata": {},
   "outputs": [],
   "source": []
  },
  {
   "cell_type": "code",
   "execution_count": 66,
   "id": "069c44f6-a09f-49af-be30-1cef88bef569",
   "metadata": {},
   "outputs": [
    {
     "data": {
      "text/plain": [
       "[{'title': 'Raw Data Preparation using Pandas',\n",
       "  'description': '',\n",
       "  'technologies': ['Pandas'],\n",
       "  'github_link': 'https://github.com/EhrlichNati/Garmin-Sports-Watch-Data-Cleanup'},\n",
       " {'title': 'CNN Classification From Scratch using Numpy',\n",
       "  'description': '',\n",
       "  'technologies': ['Numpy'],\n",
       "  'github_link': 'https://github.com/EhrlichNati/CNN-from-scratch-Binary-Classification-'}]"
      ]
     },
     "execution_count": 66,
     "metadata": {},
     "output_type": "execute_result"
    }
   ],
   "source": [
    "projects = user['projects']\n",
    "projects"
   ]
  },
  {
   "cell_type": "code",
   "execution_count": 56,
   "id": "f6b44c66-b092-4d22-ac54-e23752d83a85",
   "metadata": {},
   "outputs": [
    {
     "data": {
      "text/plain": [
       "'https://github.com/EhrlichNati/Garmin-Sports-Watch-Data-Cleanup'"
      ]
     },
     "execution_count": 56,
     "metadata": {},
     "output_type": "execute_result"
    }
   ],
   "source": [
    "projects[0]['github_link']"
   ]
  },
  {
   "cell_type": "code",
   "execution_count": 59,
   "id": "2849c608-73ee-4b19-8266-ca9e6d3f8446",
   "metadata": {},
   "outputs": [],
   "source": [
    "import requests\n",
    "response = requests.get(projects[0]['github_link'])"
   ]
  },
  {
   "cell_type": "code",
   "execution_count": 61,
   "id": "0a23eb67-2e03-4e8b-bd80-b8da141ca4e5",
   "metadata": {},
   "outputs": [
    {
     "ename": "AttributeError",
     "evalue": "'Response' object has no attribute 'body'",
     "output_type": "error",
     "traceback": [
      "\u001b[0;31m---------------------------------------------------------------------------\u001b[0m",
      "\u001b[0;31mAttributeError\u001b[0m                            Traceback (most recent call last)",
      "Cell \u001b[0;32mIn[61], line 1\u001b[0m\n\u001b[0;32m----> 1\u001b[0m \u001b[43mresponse\u001b[49m\u001b[38;5;241;43m.\u001b[39;49m\u001b[43mbody\u001b[49m\n",
      "\u001b[0;31mAttributeError\u001b[0m: 'Response' object has no attribute 'body'"
     ]
    }
   ],
   "source": []
  },
  {
   "cell_type": "code",
   "execution_count": null,
   "id": "02188c87-8834-4c33-a1c4-a08455698fc3",
   "metadata": {},
   "outputs": [],
   "source": []
  }
 ],
 "metadata": {
  "kernelspec": {
   "display_name": "Python 3 (ipykernel)",
   "language": "python",
   "name": "python3"
  },
  "language_info": {
   "codemirror_mode": {
    "name": "ipython",
    "version": 3
   },
   "file_extension": ".py",
   "mimetype": "text/x-python",
   "name": "python",
   "nbconvert_exporter": "python",
   "pygments_lexer": "ipython3",
   "version": "3.11.9"
  }
 },
 "nbformat": 4,
 "nbformat_minor": 5
}
