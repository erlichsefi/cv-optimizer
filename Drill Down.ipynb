{
 "cells": [
  {
   "cell_type": "code",
   "execution_count": 4,
   "id": "f45c125b-79d6-405e-9149-097956498fce",
   "metadata": {},
   "outputs": [],
   "source": [
    "from dotenv import load_dotenv\n",
    "load_dotenv()\n",
    "\n",
    "import json\n",
    "\n",
    "with open(\"user_cv.json\",'r') as file:\n",
    "    user = json.load(file)\n",
    "\n",
    "def get_compliation(system_message, user_input, api_key=None):\n",
    "    from openai import OpenAI\n",
    "\n",
    "    if not api_key:\n",
    "        api_key = os.envirom['OPENAI_API_KEY']\n",
    "\n",
    "    client = OpenAI(api_key=api_key)\n",
    "    stream = client.chat.completions.create(\n",
    "        model=\"gpt-3.5-turbo\",\n",
    "        messages=[\n",
    "            {\"role\": \"system\", \"content\": system_message},\n",
    "            {\"role\": \"user\", \"content\": user_input},\n",
    "        ],\n",
    "        stream=False,\n",
    "    )\n",
    "    return stream"
   ]
  },
  {
   "cell_type": "code",
   "execution_count": 11,
   "id": "71d04847-a48d-4278-9f90-113c4c5d8c73",
   "metadata": {},
   "outputs": [
    {
     "name": "stdout",
     "output_type": "stream",
     "text": [
      "Let's start with education\n"
     ]
    },
    {
     "data": {
      "text/plain": [
       "[{'degree': 'Full Matriculation',\n",
       "  'institution': 'Kfar Ganim “Amit” high School',\n",
       "  'location': '',\n",
       "  'start_date': '2010',\n",
       "  'graduation_date': '2013',\n",
       "  'grade': ''},\n",
       " {'degree': 'Pre-Med and Biology',\n",
       "  'institution': 'Tel Aviv University',\n",
       "  'location': 'Tel Aviv',\n",
       "  'start_date': '2020',\n",
       "  'graduation_date': '2021',\n",
       "  'grade': ''},\n",
       " {'degree': 'Computer science and Biology with specialisation in Bioinformatics',\n",
       "  'institution': 'Tel Aviv University',\n",
       "  'location': 'Tel Aviv',\n",
       "  'start_date': '2022',\n",
       "  'graduation_date': '2025',\n",
       "  'grade': ''}]"
      ]
     },
     "execution_count": 11,
     "metadata": {},
     "output_type": "execute_result"
    }
   ],
   "source": [
    "print(\"Let's start with education\")\n",
    "\n",
    "education = sorted(user['education'],key=lambda x: x['start_date'])\n",
    "education"
   ]
  },
  {
   "cell_type": "code",
   "execution_count": 18,
   "id": "1e9f959e-d2ec-40ee-9705-896c29d59369",
   "metadata": {},
   "outputs": [],
   "source": [
    "prompt = f\"\"\"\n",
    "I need you to interview me about this period in my life\n",
    "{json.dumps(education[0],indent=4)}\n",
    "You Goal is to asses what skills I've gained during this time.\n",
    "What questions you will ask?\n",
    "\n",
    "Response format:\n",
    "```json\n",
    "[\n",
    "    {{\n",
    "     \"question\": \"the question to ask\",\n",
    "     \"expection\": \"what you expected to learn from the user answer\"\n",
    "    }}\n",
    "    // more if needed\n",
    "]\n",
    "```\n",
    "\"\"\"\n",
    "response = get_compliation(\"\",prompt)"
   ]
  },
  {
   "cell_type": "code",
   "execution_count": 21,
   "id": "24307e47-cff2-410a-980b-b5fc34510b30",
   "metadata": {},
   "outputs": [],
   "source": [
    "education_question = json.loads(response.choices[0].message.content.replace(\"```json\",\"\").replace(\"```\",\"\"))"
   ]
  },
  {
   "cell_type": "code",
   "execution_count": 62,
   "id": "d7c97d8f-0e1e-40fd-8fc0-89a191cb7710",
   "metadata": {},
   "outputs": [
    {
     "data": {
      "text/plain": [
       "[{'question': 'What were your favorite subjects in school and why?',\n",
       "  'expection': 'Understanding the subjects that you were most interested in and possibly excelled in, indicating potential skills you may have developed in those areas.',\n",
       "  'answer': 's'},\n",
       " {'question': 'Did you participate in any extracurricular activities or clubs during high school? If so, which ones and what did you enjoy about them?',\n",
       "  'expection': 'By knowing your extracurricular involvements, I can assess your teamwork, leadership, or organizational skills, depending on your roles and experiences.'},\n",
       " {'question': 'Were there any particular challenges you faced during your high school years? How did you overcome them?',\n",
       "  'expection': 'By learning about your challenges and how you dealt with them, I can gauge your problem-solving skills, resilience, and adaptability.'},\n",
       " {'question': 'Did you have any significant projects or assignments during this period that you are proud of? Can you describe one of them?',\n",
       "  'expection': 'Understanding the projects or assignments that you are proud of can indicate your ability to work independently, manage tasks effectively, and showcase your creativity or critical thinking skills.'},\n",
       " {'question': 'How would you describe your relationships with teachers and classmates during high school?',\n",
       "  'expection': 'By knowing about your relationships with others in the school environment, I can gather insights into your communication skills, teamwork abilities, and how you interact with different personalities.'}]"
      ]
     },
     "execution_count": 62,
     "metadata": {},
     "output_type": "execute_result"
    }
   ],
   "source": [
    "education_question"
   ]
  },
  {
   "cell_type": "code",
   "execution_count": 24,
   "id": "f72e6257-bfcf-45c3-b73b-c9a9a41fab76",
   "metadata": {},
   "outputs": [
    {
     "name": "stdout",
     "output_type": "stream",
     "text": [
      "Q: What were your favorite subjects in school and why?\n"
     ]
    },
    {
     "name": "stdin",
     "output_type": "stream",
     "text": [
      " s\n"
     ]
    }
   ],
   "source": [
    "for entry in education_question[:1]:\n",
    "    print(f\"Q: {entry['question']}\")\n",
    "    answer = input()\n",
    "    entry['answer'] = answer\n"
   ]
  },
  {
   "cell_type": "code",
   "execution_count": 25,
   "id": "8653f95b-7be5-48cc-ae99-c08add574df3",
   "metadata": {},
   "outputs": [
    {
     "name": "stdout",
     "output_type": "stream",
     "text": [
      "Let's start with experience\n"
     ]
    },
    {
     "data": {
      "text/plain": [
       "[{'title': 'Independent Psychometrics and Mathematics Tutor',\n",
       "  'company': '',\n",
       "  'location': '',\n",
       "  'start_date': '2019',\n",
       "  'end_date': '2020',\n",
       "  'responsibilities': ['Designed personalized study plans and conducted effective teaching sessions to enhance student’s performance'],\n",
       "  'keywords': []},\n",
       " {'title': 'Psychometric Essay Examiner',\n",
       "  'company': 'The Psychometric of the State',\n",
       "  'location': '',\n",
       "  'start_date': '2020',\n",
       "  'end_date': '2021',\n",
       "  'responsibilities': ['Evaluated and assessed psychometric essays'],\n",
       "  'keywords': []},\n",
       " {'title': 'Network Control Center',\n",
       "  'company': 'Tel Aviv University',\n",
       "  'location': 'Tel Aviv',\n",
       "  'start_date': '2023',\n",
       "  'end_date': '2024',\n",
       "  'responsibilities': ['Monitoring network issues and serving as the primary contact for initial incident response (Troubleshooting)'],\n",
       "  'keywords': []},\n",
       " {'title': 'Data Analyst & Engineering',\n",
       "  'company': 'Tel Aviv University',\n",
       "  'location': 'Tel Aviv',\n",
       "  'start_date': '2024',\n",
       "  'end_date': 'current',\n",
       "  'responsibilities': ['Analysis and Engineering of Databases as part of ML tool pipeline using Pandas, Numpy, Statistics'],\n",
       "  'keywords': []}]"
      ]
     },
     "execution_count": 25,
     "metadata": {},
     "output_type": "execute_result"
    }
   ],
   "source": [
    "print(\"Let's start with experience\")\n",
    "\n",
    "experience = sorted(user['experience'],key=lambda x: x['start_date'])\n",
    "experience"
   ]
  },
  {
   "cell_type": "code",
   "execution_count": 47,
   "id": "d49b7aa5-02ea-41de-a5f1-bf058c88adc8",
   "metadata": {},
   "outputs": [],
   "source": [
    "system_prompt = f\"\"\"\n",
    "You are interviewing me about this period in my life:\n",
    "{json.dumps(experience[0],indent=4)}\n",
    "You Goal is to asses what skills I've gained during this time.\n",
    "When you think that you've understood the skill set I've gained you can respond with 'quit'.\n",
    "\n",
    "Response format:\n",
    "```json\n",
    "{{\n",
    " \"question\": \"the question to ask\",\n",
    " \"expectation\": \"what you expected to learn from the user answer\"\n",
    "}}\n",
    "```\n",
    "only one question at a time.\n",
    "\"\"\""
   ]
  },
  {
   "cell_type": "code",
   "execution_count": 52,
   "id": "4fb2be11-fde8-4c15-b83a-2d978df2f3ae",
   "metadata": {},
   "outputs": [
    {
     "name": "stdout",
     "output_type": "stream",
     "text": [
      "Start chatting with the bot (type 'quit' to stop)!\n",
      "Bot: Can you provide examples of how you tailored study plans to meet the individual needs of your students?\n"
     ]
    },
    {
     "name": "stdin",
     "output_type": "stream",
     "text": [
      "User:  adas\n"
     ]
    },
    {
     "name": "stdout",
     "output_type": "stream",
     "text": [
      "Bot: Can you describe a time when you had to adapt your teaching style to effectively help a struggling student?\n"
     ]
    },
    {
     "ename": "KeyboardInterrupt",
     "evalue": "Interrupted by user",
     "output_type": "error",
     "traceback": [
      "\u001b[0;31m---------------------------------------------------------------------------\u001b[0m",
      "\u001b[0;31mKeyboardInterrupt\u001b[0m                         Traceback (most recent call last)",
      "Cell \u001b[0;32mIn[52], line 42\u001b[0m\n\u001b[1;32m     40\u001b[0m \u001b[38;5;28;01mif\u001b[39;00m \u001b[38;5;18m__name__\u001b[39m \u001b[38;5;241m==\u001b[39m \u001b[38;5;124m\"\u001b[39m\u001b[38;5;124m__main__\u001b[39m\u001b[38;5;124m\"\u001b[39m:\n\u001b[1;32m     41\u001b[0m   \u001b[38;5;28mprint\u001b[39m(\u001b[38;5;124m\"\u001b[39m\u001b[38;5;124mStart chatting with the bot (type \u001b[39m\u001b[38;5;124m'\u001b[39m\u001b[38;5;124mquit\u001b[39m\u001b[38;5;124m'\u001b[39m\u001b[38;5;124m to stop)!\u001b[39m\u001b[38;5;124m\"\u001b[39m)\n\u001b[0;32m---> 42\u001b[0m   \u001b[43mchatbot\u001b[49m\u001b[43m(\u001b[49m\u001b[43m)\u001b[49m\n",
      "Cell \u001b[0;32mIn[52], line 29\u001b[0m, in \u001b[0;36mchatbot\u001b[0;34m()\u001b[0m\n\u001b[1;32m     26\u001b[0m \u001b[38;5;28mprint\u001b[39m(\u001b[38;5;124mf\u001b[39m\u001b[38;5;124m\"\u001b[39m\u001b[38;5;124mBot: \u001b[39m\u001b[38;5;132;01m{\u001b[39;00mchat_message[\u001b[38;5;124m'\u001b[39m\u001b[38;5;124mquestion\u001b[39m\u001b[38;5;124m'\u001b[39m]\u001b[38;5;132;01m}\u001b[39;00m\u001b[38;5;124m\"\u001b[39m)\n\u001b[1;32m     28\u001b[0m \u001b[38;5;66;03m# Prompt user for input\u001b[39;00m\n\u001b[0;32m---> 29\u001b[0m message \u001b[38;5;241m=\u001b[39m \u001b[38;5;28;43minput\u001b[39;49m\u001b[43m(\u001b[49m\u001b[38;5;124;43m\"\u001b[39;49m\u001b[38;5;124;43mUser: \u001b[39;49m\u001b[38;5;124;43m\"\u001b[39;49m\u001b[43m)\u001b[49m\n\u001b[1;32m     31\u001b[0m \u001b[38;5;66;03m# Exit program if user inputs \"quit\"\u001b[39;00m\n\u001b[1;32m     32\u001b[0m \u001b[38;5;28;01mif\u001b[39;00m message\u001b[38;5;241m.\u001b[39mlower() \u001b[38;5;241m==\u001b[39m \u001b[38;5;124m\"\u001b[39m\u001b[38;5;124mquit\u001b[39m\u001b[38;5;124m\"\u001b[39m:\n",
      "File \u001b[0;32m/usr/local/lib/python3.11/site-packages/ipykernel/kernelbase.py:1282\u001b[0m, in \u001b[0;36mKernel.raw_input\u001b[0;34m(self, prompt)\u001b[0m\n\u001b[1;32m   1280\u001b[0m     msg \u001b[38;5;241m=\u001b[39m \u001b[38;5;124m\"\u001b[39m\u001b[38;5;124mraw_input was called, but this frontend does not support input requests.\u001b[39m\u001b[38;5;124m\"\u001b[39m\n\u001b[1;32m   1281\u001b[0m     \u001b[38;5;28;01mraise\u001b[39;00m StdinNotImplementedError(msg)\n\u001b[0;32m-> 1282\u001b[0m \u001b[38;5;28;01mreturn\u001b[39;00m \u001b[38;5;28;43mself\u001b[39;49m\u001b[38;5;241;43m.\u001b[39;49m\u001b[43m_input_request\u001b[49m\u001b[43m(\u001b[49m\n\u001b[1;32m   1283\u001b[0m \u001b[43m    \u001b[49m\u001b[38;5;28;43mstr\u001b[39;49m\u001b[43m(\u001b[49m\u001b[43mprompt\u001b[49m\u001b[43m)\u001b[49m\u001b[43m,\u001b[49m\n\u001b[1;32m   1284\u001b[0m \u001b[43m    \u001b[49m\u001b[38;5;28;43mself\u001b[39;49m\u001b[38;5;241;43m.\u001b[39;49m\u001b[43m_parent_ident\u001b[49m\u001b[43m[\u001b[49m\u001b[38;5;124;43m\"\u001b[39;49m\u001b[38;5;124;43mshell\u001b[39;49m\u001b[38;5;124;43m\"\u001b[39;49m\u001b[43m]\u001b[49m\u001b[43m,\u001b[49m\n\u001b[1;32m   1285\u001b[0m \u001b[43m    \u001b[49m\u001b[38;5;28;43mself\u001b[39;49m\u001b[38;5;241;43m.\u001b[39;49m\u001b[43mget_parent\u001b[49m\u001b[43m(\u001b[49m\u001b[38;5;124;43m\"\u001b[39;49m\u001b[38;5;124;43mshell\u001b[39;49m\u001b[38;5;124;43m\"\u001b[39;49m\u001b[43m)\u001b[49m\u001b[43m,\u001b[49m\n\u001b[1;32m   1286\u001b[0m \u001b[43m    \u001b[49m\u001b[43mpassword\u001b[49m\u001b[38;5;241;43m=\u001b[39;49m\u001b[38;5;28;43;01mFalse\u001b[39;49;00m\u001b[43m,\u001b[49m\n\u001b[1;32m   1287\u001b[0m \u001b[43m\u001b[49m\u001b[43m)\u001b[49m\n",
      "File \u001b[0;32m/usr/local/lib/python3.11/site-packages/ipykernel/kernelbase.py:1325\u001b[0m, in \u001b[0;36mKernel._input_request\u001b[0;34m(self, prompt, ident, parent, password)\u001b[0m\n\u001b[1;32m   1322\u001b[0m \u001b[38;5;28;01mexcept\u001b[39;00m \u001b[38;5;167;01mKeyboardInterrupt\u001b[39;00m:\n\u001b[1;32m   1323\u001b[0m     \u001b[38;5;66;03m# re-raise KeyboardInterrupt, to truncate traceback\u001b[39;00m\n\u001b[1;32m   1324\u001b[0m     msg \u001b[38;5;241m=\u001b[39m \u001b[38;5;124m\"\u001b[39m\u001b[38;5;124mInterrupted by user\u001b[39m\u001b[38;5;124m\"\u001b[39m\n\u001b[0;32m-> 1325\u001b[0m     \u001b[38;5;28;01mraise\u001b[39;00m \u001b[38;5;167;01mKeyboardInterrupt\u001b[39;00m(msg) \u001b[38;5;28;01mfrom\u001b[39;00m \u001b[38;5;28;01mNone\u001b[39;00m\n\u001b[1;32m   1326\u001b[0m \u001b[38;5;28;01mexcept\u001b[39;00m \u001b[38;5;167;01mException\u001b[39;00m:\n\u001b[1;32m   1327\u001b[0m     \u001b[38;5;28mself\u001b[39m\u001b[38;5;241m.\u001b[39mlog\u001b[38;5;241m.\u001b[39mwarning(\u001b[38;5;124m\"\u001b[39m\u001b[38;5;124mInvalid Message:\u001b[39m\u001b[38;5;124m\"\u001b[39m, exc_info\u001b[38;5;241m=\u001b[39m\u001b[38;5;28;01mTrue\u001b[39;00m)\n",
      "\u001b[0;31mKeyboardInterrupt\u001b[0m: Interrupted by user"
     ]
    }
   ],
   "source": [
    "from openai import OpenAI\n",
    "import os\n",
    "import json\n",
    "\n",
    "# Load your API key from an environment variable or secret management service\n",
    "api_key = os.envirom['OPENAI_API_KEY']\n",
    "\n",
    "def chatbot():\n",
    "  # Create a list to store all the messages for context\n",
    "  messages = [\n",
    "    {\"role\": \"system\", \"content\": system_prompt},\n",
    "  ]\n",
    "\n",
    "  # Keep repeating the following\n",
    "  while True:\n",
    "\n",
    "    # Request gpt-3.5-turbo for chat completion\n",
    "    client = OpenAI(api_key=api_key)\n",
    "    stream = client.chat.completions.create(\n",
    "      model=\"gpt-3.5-turbo\",\n",
    "      messages=messages\n",
    "    )\n",
    "\n",
    "    # Print the response and add it to the messages list\n",
    "    chat_message = json.loads(stream.choices[0].message.content.replace(\"```json\",\"\").replace(\"```\",\"\"))\n",
    "    print(f\"Bot: {chat_message['question']}\")\n",
    "\n",
    "    # Prompt user for input\n",
    "    message = input(\"User: \")\n",
    "\n",
    "    # Exit program if user inputs \"quit\"\n",
    "    if message.lower() == \"quit\":\n",
    "      break\n",
    "\n",
    "    # Add each new message to the list\n",
    "    messages.append({\"role\": \"assistant\", \"content\": json.dumps(chat_message,indent=)})\n",
    "    messages.append({\"role\": \"user\", \"content\": message})\n",
    "    \n",
    "\n",
    "if __name__ == \"__main__\":\n",
    "  print(\"Start chatting with the bot (type 'quit' to stop)!\")\n",
    "  chatbot()"
   ]
  },
  {
   "cell_type": "code",
   "execution_count": 55,
   "id": "069c44f6-a09f-49af-be30-1cef88bef569",
   "metadata": {},
   "outputs": [
    {
     "data": {
      "text/plain": [
       "[{'title': 'Raw Data Preparation using Pandas',\n",
       "  'description': '',\n",
       "  'technologies': ['Pandas'],\n",
       "  'github_link': 'https://github.com/EhrlichNati/Garmin-Sports-Watch-Data-Cleanup'},\n",
       " {'title': 'CNN Classification From Scratch using Numpy',\n",
       "  'description': '',\n",
       "  'technologies': ['Numpy'],\n",
       "  'github_link': 'https://github.com/EhrlichNati/CNN-from-scratch-Binary-Classification-'}]"
      ]
     },
     "execution_count": 55,
     "metadata": {},
     "output_type": "execute_result"
    }
   ],
   "source": [
    "projects = user['projects']\n",
    "projects"
   ]
  },
  {
   "cell_type": "code",
   "execution_count": 56,
   "id": "f6b44c66-b092-4d22-ac54-e23752d83a85",
   "metadata": {},
   "outputs": [
    {
     "data": {
      "text/plain": [
       "'https://github.com/EhrlichNati/Garmin-Sports-Watch-Data-Cleanup'"
      ]
     },
     "execution_count": 56,
     "metadata": {},
     "output_type": "execute_result"
    }
   ],
   "source": [
    "projects[0]['github_link']"
   ]
  },
  {
   "cell_type": "code",
   "execution_count": 59,
   "id": "2849c608-73ee-4b19-8266-ca9e6d3f8446",
   "metadata": {},
   "outputs": [],
   "source": [
    "import requests\n",
    "response = requests.get(projects[0]['github_link'])"
   ]
  },
  {
   "cell_type": "code",
   "execution_count": 61,
   "id": "0a23eb67-2e03-4e8b-bd80-b8da141ca4e5",
   "metadata": {},
   "outputs": [
    {
     "ename": "AttributeError",
     "evalue": "'Response' object has no attribute 'body'",
     "output_type": "error",
     "traceback": [
      "\u001b[0;31m---------------------------------------------------------------------------\u001b[0m",
      "\u001b[0;31mAttributeError\u001b[0m                            Traceback (most recent call last)",
      "Cell \u001b[0;32mIn[61], line 1\u001b[0m\n\u001b[0;32m----> 1\u001b[0m \u001b[43mresponse\u001b[49m\u001b[38;5;241;43m.\u001b[39;49m\u001b[43mbody\u001b[49m\n",
      "\u001b[0;31mAttributeError\u001b[0m: 'Response' object has no attribute 'body'"
     ]
    }
   ],
   "source": []
  },
  {
   "cell_type": "code",
   "execution_count": null,
   "id": "02188c87-8834-4c33-a1c4-a08455698fc3",
   "metadata": {},
   "outputs": [],
   "source": []
  }
 ],
 "metadata": {
  "kernelspec": {
   "display_name": "Python 3 (ipykernel)",
   "language": "python",
   "name": "python3"
  },
  "language_info": {
   "codemirror_mode": {
    "name": "ipython",
    "version": 3
   },
   "file_extension": ".py",
   "mimetype": "text/x-python",
   "name": "python",
   "nbconvert_exporter": "python",
   "pygments_lexer": "ipython3",
   "version": "3.11.9"
  }
 },
 "nbformat": 4,
 "nbformat_minor": 5
}
