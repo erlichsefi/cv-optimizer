{
 "cells": [
  {
   "cell_type": "code",
   "execution_count": 5,
   "metadata": {},
   "outputs": [],
   "source": [
    "from PyPDF2 import PdfReader, PdfWriter\n",
    "\n",
    "def extract_text_from_pdf(file):\n",
    "    text = \"\"\n",
    "    with open(file, \"rb\") as f:\n",
    "        reader = PdfReader(f)\n",
    "        for page in reader.pages:\n",
    "            text += page.extract_text()\n",
    "    return text"
   ]
  },
  {
   "cell_type": "code",
   "execution_count": 7,
   "metadata": {},
   "outputs": [
    {
     "data": {
      "text/plain": [
       "'Netanel Erlich Tel-Aviv | M +972-52-4306924 | erlichnet57@gmail.com Git: https://github.com/EhrlichNati Student for Bioinformatics at Tel Aviv University (third year). Military service in the Combat Engineering force, Experienced in leading, managing, and motivating teams to achieve goals. Currently seeking a research or student position in software and ML. Education 2022 – current.  Computer science and Biology with specialisation in Bioinformatics Student | Tel Aviv University (Third year) On track to graduate in 2025 (2 semesters left); planning to open another semester for one additional course to fulfil degree requirements. 2020 - 2021 Pre-Med and Biology | Tel Aviv University 2010 - 2013 Full Matriculation |Kfar Ganim “Amit” high School | 5 units: Mathematics, English. Employment  2024 - current  Data Analyst & Engeneering - Tel Aviv University- Reaserach assistence at Ron Shamir Lab’s (C.S faculty). Analysis and Engeneering of Databases as part of ML tool pipeline(Pandas, Numpy, Statistics) 2023 – 2024 Network Control Center - Tel Aviv University- Monitoring network issues, serving as the primary contact for initial incident response.(Troubleshooting) 2020 - 2021 Psychometric Essay Examiner , \"The Psychometric of the State”- Evaluated and assessed psychometric essays. 2019 - 2020 Independent Psychometrics(SAT equivalent) and Mathematics Tutor- Designed personalised study plans and conducted effective teaching sessions to enhance student’s performance. Experience AlphaWave Accelerator   Participated in Neurotech Innovations Challenge, focusing on real industry challenges to be solved using brain-computer interfaces and human enhancement technologies iGEM R&D Team Computational Model team member- currently collaborating with Tel Aviv University\\'s iGEM team focusing on innovative research and development in Synthetic Biology. Military service 2014 - 2017 Combat Engineering Force | Class Commander and Mentor | Platoon Sergeant ● Responsible for operations and management to ensure efficient coordination and execution of missions. ● Accountable for the training and skill development of class commanders. ● Led a team of 30 soldiers, directing activities and fostering team cohesion. Recognized for outstanding performance during military training, awarded with the Excellence Badge. Team player- Achieved the top rank among company commanders based on sociometric evaluations. Volunteering 2018 - 2019 Ichilov Hospital Organisational support and Protocols development- assisting with patient care, and structure the work for future volunteers. 2023 - current Computer lessons and assistance helping elderly individuals, fostering their digital literacy and technological skills. Relevant Projects 1. Raw Data Preparation using Pandas https://github.com/EhrlichNati/Garmin-Sports-Watch-Data-Cleanup 2. CNN Classification From Scratch using Numpy-https://github.com/EhrlichNati/CNN-from-scratch-Binary-Classification- Skills and Courses: Python, Java, Object-oriented programming/design, CS Statistics, Data analysis, Data Structures, Introduction to Machine Learning, Algorithems, Git and GitHub. Languages: Hebrew – mother tongue | English – speech and writing (fluent) '"
      ]
     },
     "execution_count": 7,
     "metadata": {},
     "output_type": "execute_result"
    }
   ],
   "source": [
    "extracted_text = extract_text_from_pdf(\"Netanel Erlich- CV.pdf\")\n",
    "extracted_text"
   ]
  },
  {
   "cell_type": "code",
   "execution_count": 9,
   "metadata": {},
   "outputs": [],
   "source": [
    "def get_compliation(system_message,user_input,api_key):\n",
    "    from openai import OpenAI\n",
    "\n",
    "    client = OpenAI(api_key=api_key)\n",
    "    stream = client.chat.completions.create(\n",
    "            model=\"gpt-3.5-turbo\",\n",
    "            messages=\n",
    "            [\n",
    "             {\"role\":\"system\", \"content\":system_message},\n",
    "             {\"role\":\"user\", \"content\":user_input}\n",
    "           \n",
    "            ],\n",
    "            stream=False,\n",
    "        )\n",
    "    return stream\n"
   ]
  },
  {
   "cell_type": "code",
   "execution_count": 17,
   "metadata": {},
   "outputs": [
    {
     "data": {
      "text/plain": [
       "ChatCompletion(id='chatcmpl-9FKOuvmprt9NuMhRWTsIYZdbUQIWg', choices=[Choice(finish_reason='stop', index=0, logprobs=None, message=ChatCompletionMessage(content='{\\n    \"personal_info\": {\\n        \"name\": \"Netanel Erlich\",\\n        \"email\": \"erlichnet57@gmail.com\",\\n        \"phone\": \"+972-52-4306924\",\\n        \"address\": \"Tel-Aviv\",\\n        \"linkedin\": \"\",\\n        \"github\": \"https://github.com/EhrlichNati\",\\n        \"additional_websites\": []\\n    },\\n    \"summary\": \"Experienced student in Bioinformatics with a background in Computer Science and Biology seeking research or student positions in software and ML. Skilled in data analysis, Python programming, and database engineering.\",\\n    \"education\": [\\n        {\\n            \"degree\": \"B.Sc. in Computer Science and Biology with specialisation in Bioinformatics\",\\n            \"institution\": \"Tel Aviv University\",\\n            \"location\": \"Tel Aviv\",\\n            \"graduation_date\": \"Expected 2025\",\\n            \"grade\": \"\"\\n        },\\n        {\\n            \"degree\": \"Pre-Med and Biology\",\\n            \"institution\": \"Tel Aviv University\",\\n            \"location\": \"Tel Aviv\",\\n            \"graduation_date\": \"2021\",\\n            \"grade\": \"\"\\n        },\\n        {\\n            \"degree\": \"Full Matriculation\",\\n            \"institution\": \"Kfar Ganim “Amit” High School\",\\n            \"location\": \"\",\\n            \"graduation_date\": \"2013\",\\n            \"grade\": \"\"\\n        }\\n    ],\\n    \"experience\": [\\n        {\\n            \"title\": \"Data Analyst & Engineering\",\\n            \"company\": \"Tel Aviv University - Ron Shamir Lab’s\",\\n            \"location\": \"Tel Aviv\",\\n            \"start_date\": \"2024\",\\n            \"end_date\": \"Current\",\\n            \"responsibilities\": [\"Analysis and Engineering of Databases for ML tool pipeline using Pandas, Numpy, Statistics\"],\\n            \"keywords\": [\"Data Analysis\", \"Database Engineering\", \"Machine Learning\"]\\n        },\\n        {\\n            \"title\": \"Network Control Center\",\\n            \"company\": \"Tel Aviv University\",\\n            \"location\": \"Tel Aviv\",\\n            \"start_date\": \"2023\",\\n            \"end_date\": \"2024\",\\n            \"responsibilities\": [\"Monitoring network issues\", \"Initial incident response (Troubleshooting)\"],\\n            \"keywords\": [\"Network Monitoring\", \"Incident Response\"]\\n        },\\n        {\\n            \"title\": \"Psychometric Essay Examiner\",\\n            \"company\": \"The Psychometric of the State\",\\n            \"location\": \"\",\\n            \"start_date\": \"2020\",\\n            \"end_date\": \"2021\",\\n            \"responsibilities\": [\"Evaluated and assessed psychometric essays\"]\\n        },\\n        {\\n            \"title\": \"Independent Psychometrics and Mathematics Tutor\",\\n            \"company\": \"\",\\n            \"location\": \"\",\\n            \"start_date\": \"2019\",\\n            \"end_date\": \"2020\",\\n            \"responsibilities\": [\"Designed personalized study plans\", \"Conducted effective teaching sessions\"]\\n        }\\n    ],\\n    \"skills\": [\"Python\", \"Java\", \"Data Analysis\", \"Data Structures\", \"Machine Learning\", \"Git and GitHub\"],\\n    \"certifications\": [],\\n    \"projects\": [\\n        {\\n            \"title\": \"Raw Data Preparation using Pandas\",\\n            \"description\": \"Cleaning up Garmin Sports Watch Data\",\\n            \"technologies\": [\"Pandas\"],\\n            \"github_link\": \"https://github.com/EhrlichNati/Garmin-Sports-Watch-Data-Cleanup\"\\n        },\\n        {\\n            \"title\": \"CNN Classification From Scratch using Numpy\",\\n            \"description\": \"Binary Classification using Convolutional Neural Networks\",\\n            \"technologies\": [\"Numpy\"],\\n            \"github_link\": \"https://github.com/EhrlichNati/CNN-from-scratch-Binary-Classification\"\\n        }\\n    ],\\n    \"languages\": [\"Hebrew (Mother Tongue)\", \"English (Fluent)\"]\\n}', role='assistant', function_call=None, tool_calls=None))], created=1713440368, model='gpt-3.5-turbo-0125', object='chat.completion', system_fingerprint='fp_c2295e73ad', usage=CompletionUsage(completion_tokens=782, prompt_tokens=1157, total_tokens=1939))"
      ]
     },
     "execution_count": 17,
     "metadata": {},
     "output_type": "execute_result"
    }
   ],
   "source": [
    "json_format = get_compliation(system_message=\"\"\"\n",
    "                Extract the CV into the following format \n",
    "                {\n",
    "                    \"personal_info\": {\n",
    "                    \"first_name\": \"[First Name]\",\n",
    "                    \"last_name\": \"[Last Name\"]\n",
    "                    \"email\": \"[Email]\",\n",
    "                    \"phone\": \"[Phone Number]\",\n",
    "                    \"address\": \"[Address]\",\n",
    "                    \"linkedin\": \"[LinkedIn Profile]\",\n",
    "                    \"github\": \"[Github Profile],\n",
    "                    \"additional_websites\": [\"[Website]\",\"[Website]\"]\n",
    "                },\n",
    "                \"education\": [\n",
    "                {\n",
    "                    \"degree\": \"[Degree]\",\n",
    "                    \"institution\": \"[University Name]\",\n",
    "                    \"location\": \"[Location]\",\n",
    "                    \"graduation_date\": \"[Graduation Date]\",\n",
    "                    \"grade\": \"[Grade]\"\n",
    "                },\n",
    "                {\n",
    "                    \"degree\": \"[Degree]\",\n",
    "                    \"institution\": \"[University Name]\",\n",
    "                    \"location\": \"[Location]\",\n",
    "                    \"graduation_date\": \"[Graduation Date]\",\n",
    "                    \"grade\": \"[Grade]\"\n",
    "                }\n",
    "                ],\n",
    "                \"experience\": [\n",
    "                {\n",
    "                    \"title\": \"[Job Title]\",\n",
    "                    \"company\": \"[Company]\",\n",
    "                    \"location\": \"[Location]\",\n",
    "                    \"start_date\": \"[Start Date]\",\n",
    "                    \"end_date\": \"[End Date]\",\n",
    "                    \"responsibilities\": [\"[Responsibility]\", \"[Responsibility]\"],\n",
    "                    \"keywords\": [\"[Keyword]\", \"[Keyword]\"]\n",
    "                },\n",
    "                {\n",
    "                    \"title\": \"[Job Title]\",\n",
    "                    \"company\": \"[Company]\",\n",
    "                    \"location\": \"[Location]\",\n",
    "                    \"start_date\": \"[Start Date]\",\n",
    "                    \"end_date\": \"[End Date]\",\n",
    "                    \"responsibilities\": [\"[Responsibility]\", \"[Responsibility]\"],\n",
    "                    \"keywords\": [\"[Keyword]\", \"[Keyword]\"]\n",
    "                }\n",
    "                ],\n",
    "                \"skills\": [\"[Skill]\", \"[Skill]\", \"[Skill]\", \"[Skill]\"],\n",
    "                \"certifications\": [\"[Certification]\", \"[Certification]\"],\n",
    "                \"projects\": [\n",
    "                {\n",
    "                    \"title\": \"[Project Title]\",\n",
    "                    \"description\": \"[Project Description]\",\n",
    "                    \"technologies\": [\"[Technology]\", \"[Technology]\", \"[Technology]\"],\n",
    "                    \"github_link\": \"[GitHub Link]\"\n",
    "                },\n",
    "                {\n",
    "                    \"title\": \"[Project Title]\",\n",
    "                    \"description\": \"[Project Description]\",\n",
    "                    \"technologies\": [\"[Technology]\", \"[Technology]\", \"[Technology]\"],\n",
    "                    \"github_link\": \"[GitHub Link]\"\n",
    "                }\n",
    "                ],\n",
    "                \"languages\": [\"[Language]\", \"[Language]\", \"[Language]\"],\n",
    "                \"summary\": \"[Summary]\"\n",
    "                }\n",
    "                \"\"\",\n",
    "                user_input=extracted_text,\n",
    "                api_key=)\n",
    "json_format"
   ]
  },
  {
   "cell_type": "code",
   "execution_count": 16,
   "metadata": {},
   "outputs": [
    {
     "data": {
      "text/plain": [
       "{'personal_info': {'name': 'Netanel Erlich',\n",
       "  'email': 'erlichnet57@gmail.com',\n",
       "  'phone': '+972-52-4306924',\n",
       "  'address': 'Tel Aviv',\n",
       "  'linkedin': '',\n",
       "  'website': ''},\n",
       " 'summary': 'Bioinformatics student at Tel Aviv University with experience in data analysis, network monitoring, tutoring, and military leadership. Seeking research or student position in software and machine learning.',\n",
       " 'education': [{'degree': 'Computer Science and Biology with specialisation in Bioinformatics',\n",
       "   'institution': 'Tel Aviv University',\n",
       "   'location': 'Tel Aviv',\n",
       "   'graduation_date': '2025 (Expected)',\n",
       "   'grade': ''},\n",
       "  {'degree': 'Pre-Med and Biology',\n",
       "   'institution': 'Tel Aviv University',\n",
       "   'location': 'Tel Aviv',\n",
       "   'graduation_date': '2021',\n",
       "   'grade': ''},\n",
       "  {'degree': 'Full Matriculation',\n",
       "   'institution': 'Kfar Ganim “Amit” High School',\n",
       "   'location': 'Israel',\n",
       "   'graduation_date': '2013',\n",
       "   'grade': ''}],\n",
       " 'experience': [{'title': 'Data Analyst & Engineering',\n",
       "   'company': 'Tel Aviv University - Ron Shamir Lab’s',\n",
       "   'location': 'Tel Aviv',\n",
       "   'start_date': '2024',\n",
       "   'end_date': 'Current',\n",
       "   'responsibilities': ['Analysis and Engineering of Databases for ML tool pipeline',\n",
       "    'Monitoring network issues and incident response'],\n",
       "   'keywords': ['Pandas', 'Numpy', 'Statistics']},\n",
       "  {'title': 'Network Control Center',\n",
       "   'company': 'Tel Aviv University',\n",
       "   'location': 'Tel Aviv',\n",
       "   'start_date': '2023',\n",
       "   'end_date': '2024',\n",
       "   'responsibilities': ['Monitoring network issues',\n",
       "    'Initial incident response'],\n",
       "   'keywords': ['Troubleshooting']},\n",
       "  {'title': 'Psychometric Essay Examiner',\n",
       "   'company': 'The Psychometric of the State',\n",
       "   'location': 'Israel',\n",
       "   'start_date': '2020',\n",
       "   'end_date': '2021',\n",
       "   'responsibilities': ['Evaluated and assessed psychometric essays'],\n",
       "   'keywords': []},\n",
       "  {'title': 'Independent Psychometrics and Mathematics Tutor',\n",
       "   'company': 'Self-employed',\n",
       "   'location': 'Israel',\n",
       "   'start_date': '2019',\n",
       "   'end_date': '2020',\n",
       "   'responsibilities': ['Designing personalized study plans',\n",
       "    'Conducting effective teaching sessions'],\n",
       "   'keywords': []}],\n",
       " 'skills': ['Python',\n",
       "  'Java',\n",
       "  'Object-oriented programming/design',\n",
       "  'CS Statistics',\n",
       "  'Data analysis',\n",
       "  'Data Structures',\n",
       "  'Machine Learning',\n",
       "  'Algorithms',\n",
       "  'Git and GitHub'],\n",
       " 'certifications': [],\n",
       " 'projects': [{'title': 'Raw Data Preparation using Pandas',\n",
       "   'description': 'Cleanup of Garmin Sports Watch data',\n",
       "   'technologies': ['Pandas'],\n",
       "   'github_link': 'https://github.com/EhrlichNati/Garmin-Sports-Watch-Data-Cleanup'},\n",
       "  {'title': 'CNN Classification From Scratch using Numpy',\n",
       "   'description': 'Binary Classification using Convolutional Neural Network',\n",
       "   'technologies': ['Numpy'],\n",
       "   'github_link': 'https://github.com/EhrlichNati/CNN-from-scratch-Binary-Classification-'}],\n",
       " 'languages': ['Hebrew', 'English']}"
      ]
     },
     "execution_count": 16,
     "metadata": {},
     "output_type": "execute_result"
    }
   ],
   "source": [
    "import json\n",
    "\n",
    "json.loads(json_format.choices[0].message.content)"
   ]
  },
  {
   "cell_type": "code",
   "execution_count": null,
   "metadata": {},
   "outputs": [],
   "source": []
  }
 ],
 "metadata": {
  "kernelspec": {
   "display_name": "env",
   "language": "python",
   "name": "python3"
  },
  "language_info": {
   "codemirror_mode": {
    "name": "ipython",
    "version": 3
   },
   "file_extension": ".py",
   "mimetype": "text/x-python",
   "name": "python",
   "nbconvert_exporter": "python",
   "pygments_lexer": "ipython3",
   "version": "3.10.13"
  }
 },
 "nbformat": 4,
 "nbformat_minor": 2
}
