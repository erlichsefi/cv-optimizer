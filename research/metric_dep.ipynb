{
 "cells": [
  {
   "cell_type": "code",
   "execution_count": 2,
   "metadata": {},
   "outputs": [
    {
     "name": "stdout",
     "output_type": "stream",
     "text": [
      "/workspaces/cv-optimizer\n"
     ]
    }
   ],
   "source": [
    "%cd .."
   ]
  },
  {
   "cell_type": "code",
   "execution_count": 3,
   "metadata": {},
   "outputs": [
    {
     "data": {
      "text/plain": [
       "{'personal_info': {'firstname': 'Sefi',\n",
       "  'lastname': 'Erlich',\n",
       "  'email': 'erlichsefi@gmail.com',\n",
       "  'phone': '+972 524 307 093',\n",
       "  'address': 'TLV, Israel - willing to relocate',\n",
       "  'linkedin': {'link': 'https://www.linkedin.com/in/erlichsefi/',\n",
       "   'username': ['erlichsefi']},\n",
       "  'github': {'link': 'github.com/erlichse01', 'username': ['erlichsefi']},\n",
       "  'additional_websites': []},\n",
       " 'education': [{'degree': 'M.Sc Computer Science',\n",
       "   'institution': 'Ariel University',\n",
       "   'location': 'Ariel',\n",
       "   'start_date': '2016',\n",
       "   'graduation_date': '2018',\n",
       "   'grade': '93'},\n",
       "  {'degree': 'B.Sc Mathematics and Computer Science',\n",
       "   'institution': 'Ariel University',\n",
       "   'location': 'Ariel',\n",
       "   'start_date': '2013',\n",
       "   'graduation_date': '2016',\n",
       "   'grade': '92.7'}],\n",
       " 'experience': [{'title': 'Lead Data Scientist',\n",
       "   'company': 'Salesforce',\n",
       "   'location': 'Tel-Aviv/Remote',\n",
       "   'start_date': 'Jan 2020',\n",
       "   'end_date': 'Present',\n",
       "   'responsibilities': ['Workforce Management: E2E Data Scientist (customers until back-end) Multivariate Time Series forecasting Service',\n",
       "    'Development for an E2E dockerized pipeline for Model Deployment and Serving',\n",
       "    'Deploying language models in production using tensorflow',\n",
       "    'Developing the first generative GA Salesforce application',\n",
       "    'Natual language to SOQL (Salesforce SQL)',\n",
       "    'Natual language to segmenation'],\n",
       "   'keywords': ['Mongo',\n",
       "    'Docker',\n",
       "    'Python',\n",
       "    'Sklearn',\n",
       "    'Pandas',\n",
       "    'Numpy',\n",
       "    'Git',\n",
       "    'Tensorflow',\n",
       "    'Keras',\n",
       "    'Torch',\n",
       "    'Huggingface',\n",
       "    'LLM',\n",
       "    'Embedding',\n",
       "    'Autonomous agents']},\n",
       "  {'title': 'Data Scientist',\n",
       "   'company': 'ClickSoftware (Acquired by Salesforce)',\n",
       "   'location': 'Petah Tikva',\n",
       "   'start_date': 'Feb 2019',\n",
       "   'end_date': 'Jan 2020',\n",
       "   'responsibilities': ['Working on Multivariate Time Series forecasting in a Multi-tenant environment',\n",
       "    'Development of an e2e dockerized pipeline (periodic training, data processing, and serving)'],\n",
       "   'keywords': ['AWS',\n",
       "    'Docker',\n",
       "    'Python',\n",
       "    'Keras',\n",
       "    'Tensorflow',\n",
       "    'Dask',\n",
       "    'Git']},\n",
       "  {'title': 'AI Researcher',\n",
       "   'company': 'Ariel University',\n",
       "   'location': 'Ariel',\n",
       "   'start_date': 'Nov 2016',\n",
       "   'end_date': 'Oct 2018',\n",
       "   'responsibilities': ['Machine learning for football match violence prediction',\n",
       "    'Classification and enrichment of encrypted traffic Using Machine Learning algorithms'],\n",
       "   'keywords': ['Numpy', 'Pandas', 'Sklearn']},\n",
       "  {'title': 'Research Assistant',\n",
       "   'company': 'Ariel University',\n",
       "   'location': 'Ariel',\n",
       "   'start_date': 'Oct 2014',\n",
       "   'end_date': 'Jul 2016',\n",
       "   'responsibilities': ['Researching Malware network behavior using Wireshark and Python',\n",
       "    'Design and development of a centered intrusion detection system in Java and Python'],\n",
       "   'keywords': ['Wireshark',\n",
       "    'Python',\n",
       "    'Java',\n",
       "    'Multiparty Computation',\n",
       "    'Cybersecurity']}],\n",
       " 'skills': ['Java', 'Python', 'AWS'],\n",
       " 'certifications': ['Sequences, Time Series and Prediction,DeepLearning.AI, Grade 98.06',\n",
       "  'Applied Machine Learning in Python,University of Michigan, Grade 84.78'],\n",
       " 'projects': [{'title': 'Israel Supermarket Scraper',\n",
       "   'description': 'Clients to download the data published by the supermarkets.',\n",
       "   'technologies': ['Playwrite',\n",
       "    'WebScraping',\n",
       "    'OpenSource',\n",
       "    'Github Actions'],\n",
       "   'github_link': 'https://github.com/erlichsefi/israeli-supermarket-scarpers'},\n",
       "  {'title': 'AIWebAssist',\n",
       "   'description': 'Chrome extension to control the broswer using LLM',\n",
       "   'technologies': ['Javascript', 'Chrome', 'Selenim', 'LLM', 'RAG'],\n",
       "   'github_link': 'https://github.com/AIWebAssist'}],\n",
       " 'languages': ['Hebrew', 'English'],\n",
       " 'summary': 'Lead Applied Data Scientist with experience of over five years in the tech industry in Time Series, NLP, and Generative. Four years of experience in academic research: Two years of experience in ML and two years in algorithmic game theory research. Additionally, one year as DS Guild manager. Entrepreneur mindset.',\n",
       " 'achievements': ['Two kids'],\n",
       " 'publications': [{'title': 'Negotiation Strategies for Agents with Ordinal Preferences: Theoretical Analysis and Human Study',\n",
       "   'publish_date': '2024',\n",
       "   'description': '',\n",
       "   'publication': 'Artificial Intelligence, Elsevier',\n",
       "   'link': 'https://u.cs.biu.ac.il/~krauss/data/articles/AIJ-2024.pdf'},\n",
       "  {'title': 'STWSN: A Novel Secure Distributed Transport Protocol for Wireless Sensor Networks',\n",
       "   'publish_date': '2018',\n",
       "   'description': 'Dr. Amit Dvir',\n",
       "   'publication': 'IJCS18',\n",
       "   'link': 'https://onlinelibrary.wiley.com/doi/abs/10.1002/dac.3827'},\n",
       "  {'title': 'Negotiation Strategies for Agents with Ordinal Preferences',\n",
       "   'publish_date': '2019',\n",
       "   'description': 'Supervision of Prof. Sarit Krus and Dr. Noam Hazon',\n",
       "   'publication': 'Thesis',\n",
       "   'link': 'https://www.ijcai.org/proceedings/2018/0029.pdf'},\n",
       "  {'title': 'Heterogeneous SDN controller placement problem—The Wi-Fi and 4G LTE-U case',\n",
       "   'publish_date': '2021',\n",
       "   'description': '',\n",
       "   'publication': 'No',\n",
       "   'link': 'https://www.researchgate.net/publication/353671072_Heterogeneous_SDN_controller_placement_problem-The_Wi-Fi_and_4G_LTE-U_case'}]}"
      ]
     },
     "execution_count": 3,
     "metadata": {},
     "output_type": "execute_result"
    }
   ],
   "source": [
    "import json\n",
    "\n",
    "with open(\"data_set/expected_cv.json\",\"r\") as file:\n",
    "    expected_cv = json.load(file)\n",
    "\n",
    "expected_cv"
   ]
  },
  {
   "cell_type": "code",
   "execution_count": 45,
   "metadata": {},
   "outputs": [],
   "source": [
    "import os\n",
    "\n",
    "output_folder = \"data_set/predicted\"\n",
    "predicted = [os.path.join(output_folder,file) for file in os.listdir(output_folder)]\n",
    "\n",
    "\n",
    "def load_extracted(file_path):\n",
    "    with open(file_path,\"r\") as file:\n",
    "        first_test = json.load(file)\n",
    "\n",
    "        return first_test['extracted_cv']\n",
    "\n",
    "def load_first_compliation(file_path):\n",
    "    with open(file_path,\"r\") as file:\n",
    "        first_test = json.load(file)\n",
    "\n",
    "        first = min(first_test['all_compliation'].keys())\n",
    "        return first_test['all_compliation'][first]\n",
    "    \n",
    "\n",
    "extracted_cvs = [load_extracted(single_predicted) for single_predicted in predicted]\n",
    "\n"
   ]
  },
  {
   "cell_type": "code",
   "execution_count": 46,
   "metadata": {},
   "outputs": [
    {
     "data": {
      "text/plain": [
       "{'personal_info': {'firstname': 'Sefi',\n",
       "  'lastname': 'Erlich',\n",
       "  'email': 'berlichsefi@gmail.com',\n",
       "  'phone': '+972 524 307 093',\n",
       "  'address': 'TLV, Israel - willing to relocate',\n",
       "  'linkedin': {'link': '', 'username': []},\n",
       "  'github': {'link': 'github.com/erlichsefi', 'username': ['erlichsefi']},\n",
       "  'additional_websites': []},\n",
       " 'education': [{'degree': 'M.Sc Computer Science',\n",
       "   'institution': 'Ariel University',\n",
       "   'location': 'Ariel',\n",
       "   'start_date': '2016',\n",
       "   'graduation_date': '2018',\n",
       "   'grade': '93'},\n",
       "  {'degree': 'B.Sc Mathematics and Computer Science',\n",
       "   'institution': 'Ariel University',\n",
       "   'location': 'Ariel',\n",
       "   'start_date': '2013',\n",
       "   'graduation_date': '2016',\n",
       "   'grade': '92.7'}],\n",
       " 'experience': [{'title': 'Lead Data Scientist',\n",
       "   'company': 'Salesforce',\n",
       "   'location': 'Tel-Aviv/Remote',\n",
       "   'start_date': 'Jan 2020',\n",
       "   'end_date': 'Present',\n",
       "   'responsibilities': ['Workforce Management: E2E Data Scientist (customers until back-end) Multivariate Time Series forecasting Service',\n",
       "    'Development for an E2E dockerized pipeline for Model Deployment and Serving'],\n",
       "   'keywords': ['Time Series forecasting',\n",
       "    'Machine Learning',\n",
       "    'Model Deployment',\n",
       "    'NLP']},\n",
       "  {'title': 'Data Scientist',\n",
       "   'company': 'ClickSoftware (Acquired by Salesforce)',\n",
       "   'location': 'Petah Tikva',\n",
       "   'start_date': 'Feb 2019',\n",
       "   'end_date': 'Jan 2020',\n",
       "   'responsibilities': ['Working on Multivariate Time Series forecasting in a Multi-tenant environment',\n",
       "    'Development of an e2e dockerized pipeline'],\n",
       "   'keywords': ['Time Series forecasting', 'AWS', 'Keras', 'Tensorflow']},\n",
       "  {'title': 'AI Researcher',\n",
       "   'company': 'Ariel University',\n",
       "   'location': 'Ariel',\n",
       "   'start_date': 'Nov 2016',\n",
       "   'end_date': 'Oct 2018',\n",
       "   'responsibilities': ['Machine learning for football match violence prediction',\n",
       "    'Classification and enrichment of encrypted traffic Using Machine Learning algorithms'],\n",
       "   'keywords': ['Machine Learning', 'Algorithmic Game Theory', 'Research']},\n",
       "  {'title': 'Research Assistant',\n",
       "   'company': 'Ariel University',\n",
       "   'location': 'Ariel',\n",
       "   'start_date': 'Oct 2014',\n",
       "   'end_date': 'Jul 2016',\n",
       "   'responsibilities': ['Researching Malware network behavior using Wireshark and Python',\n",
       "    'Design and development of a centered intrusion detection system'],\n",
       "   'keywords': ['Malware Analysis', 'Intrusion Detection', 'Cybersecurity']}],\n",
       " 'skills': ['Java', 'Python', 'AWS', 'Machine Learning', 'NLP'],\n",
       " 'certifications': [],\n",
       " 'projects': [],\n",
       " 'languages': ['Hebrew', 'English'],\n",
       " 'summary': 'Lead Applied Data Scientist with experience of over five years in the tech industry in Time Series, NLP, and Generative. Four years of experience in academic research in ML and algorithmic game theory. Entrepreneur mindset.',\n",
       " 'achievements': [],\n",
       " 'publications': [{'title': 'Negotiation Strategies for Agents with Ordinal Preferences: Theoretical Analysis and Human Study',\n",
       "   'publish_date': '2024',\n",
       "   'description': 'Artificial Intelligence, Elsevier',\n",
       "   'publication': '',\n",
       "   'link': ''},\n",
       "  {'title': 'STWSN: A Novel Secure Distributed Transport Protocol for Wireless Sensor Networks',\n",
       "   'publish_date': 'IJCS18',\n",
       "   'description': 'Dr. Amit Dvir',\n",
       "   'publication': '',\n",
       "   'link': ''},\n",
       "  {'title': 'Negotiation Strategies for Agents with Ordinal Preferences',\n",
       "   'publish_date': 'Thesis',\n",
       "   'description': 'supervision of Prof. Sarit Krus and Dr. Noam Hazon',\n",
       "   'publication': '',\n",
       "   'link': ''},\n",
       "  {'title': 'Heterogeneous SDN controller placement problem—The Wi-Fi and 4G LTE-U case',\n",
       "   'publish_date': '',\n",
       "   'description': 'A. Zilberman at el.',\n",
       "   'publication': '',\n",
       "   'link': ''}]}"
      ]
     },
     "execution_count": 46,
     "metadata": {},
     "output_type": "execute_result"
    }
   ],
   "source": [
    "extracted_cvs[0]"
   ]
  },
  {
   "cell_type": "code",
   "execution_count": 47,
   "metadata": {},
   "outputs": [],
   "source": [
    "def dict_diff(dict1, dict2):\n",
    "    diff = {}\n",
    "    all_keys = set(dict1.keys()) | set(dict2.keys())\n",
    "    for key in all_keys:\n",
    "        if key not in dict2:\n",
    "            diff[key] = (dict1[key], None)\n",
    "        elif key not in dict1:\n",
    "            diff[key] = (None, dict2[key])\n",
    "        elif isinstance(dict1[key], dict) and isinstance(dict2[key], dict):\n",
    "            nested_diff = dict_diff(dict1[key], dict2[key])\n",
    "            if nested_diff:\n",
    "                diff[key] = nested_diff\n",
    "        elif dict1[key] != dict2[key]:\n",
    "            diff[key] = (dict1[key], dict2[key])\n",
    "    return diff"
   ]
  },
  {
   "cell_type": "code",
   "execution_count": 48,
   "metadata": {},
   "outputs": [
    {
     "name": "stdout",
     "output_type": "stream",
     "text": [
      "0 VS 1\n",
      "Changes 5\n",
      "0 VS 2\n",
      "Changes 5\n",
      "0 VS 3\n",
      "Changes 4\n",
      "0 VS 4\n",
      "Changes 6\n",
      "1 VS 2\n",
      "Changes 3\n",
      "1 VS 3\n",
      "Changes 2\n",
      "1 VS 4\n",
      "Changes 2\n",
      "2 VS 3\n",
      "Changes 2\n",
      "2 VS 4\n",
      "Changes 3\n",
      "3 VS 4\n",
      "Changes 3\n"
     ]
    }
   ],
   "source": [
    "for i,extracted_cv_i in enumerate(extracted_cvs):\n",
    "    for j,extracted_cv_j in enumerate(extracted_cvs):\n",
    "        if j<=i:\n",
    "            continue\n",
    "        print(f\"{i} VS {j}\")\n",
    "        print(f\"Changes {len(dict_diff(extracted_cv_i,extracted_cv_j))}\")\n",
    "# seems like the first step as a lot of noize"
   ]
  },
  {
   "cell_type": "code",
   "execution_count": 65,
   "metadata": {},
   "outputs": [],
   "source": [
    "first_compliation = [load_first_compliation(single_predicted) for single_predicted in predicted]\n",
    "\n",
    "def validate_and_extract_input(x):\n",
    "    assert len(x) == 2\n",
    "    return x[1]['content']\n",
    "\n",
    "\n",
    "assert len(set([validate_and_extract_input(pdf_reading['messages']) for pdf_reading in first_compliation])) == 1\n"
   ]
  },
  {
   "cell_type": "code",
   "execution_count": 66,
   "metadata": {},
   "outputs": [
    {
     "data": {
      "text/plain": [
       "'Seﬁ Erlich\\nCurriculum VitaeTLV, Israel - willing to relocate\\nH+972 524 307 093\\nBerlichseﬁ@gmail.comÍgithub.com/erlichseﬁ\\nLead Applied Data Scientist with experience of over ﬁve years in the tech industry in Time Series, NLP, and Generative.\\nFour years of experience in academic research: Two years of experience in ML and two years in algorithmic game\\ntheory research. Additionally, one year as DS Guild manager. Entrepreneur mindset.\\nSkills\\n{Programming Languages: Java (3 years), Python (5 years)\\n{Cload Platforms: AWS (2 years)\\n{Languages: Hebrew - Native. English - high level.\\nPrevious Employment\\n{Jan 2020 -\\nPresentLead Data Scientist ,Salesforce - Several positions , Tel-Aviv/Remote.\\nWorkforce Management: E2E Data Scientist (customers until back-end) Multivariate Time Series forecast-\\ning Service. Development for an E2E dockerized pipeline for Model Deployment and Serving. Technolo-\\ngies:Mongo,Docker,python,Sklearn,Pandas,Numpy,Git,etc.\\nEinstein Language Intelligence : Applied Data Scientist, Deploying language models in production. Devel-\\noping the ﬁrst generative GA Salesforce application. Technologies : Tensorﬂow, Keras, Torch, Huggingface,\\nLLM, Embedding, Autonomous agents. Data Cloud : Applied Data Scientist, Generative Database applica-\\ntions.\\n{Feb 2019 -\\nJan 2020Data Scientist ,ClickSoftware (Acquired by Salesforce.) , Petah Tikva.\\n\"Full Stack\" Data Scientist, working on Multivariate Time Series forecasting in a Multi-tenant environment.\\nDevelopment of an e2e dockerized pipeline (periodic training, data processing, and serving)\\nTechnologies : AWS,Docker,python,Keras,Tensorﬂow,Dask,Git.\\n{Nov 2016 -\\nOct 2018AI Researcher ,Ariel University , Ariel.\\n-\"Machine learning for football match violence prediction \"\\n-\"Classiﬁcation and enrichment of encrypted traﬃc Using Machine Learning algorithms \"\\n{Oct 2014 -\\nJul 2016Research Assistant ,Ariel University , Ariel.\\nResearching Malware network behavior using Wireshark and Python, Design and development of a centered\\nintrusion detection system in Java and Python, which uses Multiparty Computation in C++ and testing in\\nDETER (Cybersecurity cloud). Dr. Eran Omri and Dr. Amit Dvir.\\nEducation\\n{2016 - 2018 M.Sc Computer Science ,Ariel University ,93, Full scholarship .\\nThesis: Development of a Polynomial Time Algorithm for an deterministic automated negotiation AI in a\\nvarious of scenarios.\\n{2013 - 2016 B.Sc Mathematics and Computer Science ,Ariel University ,92.7, Twice Dean Honor, Magna\\nCum Laude .\\nOutstanding Final Project \"Malware detection system\" with Dr. Eran Omri and Dr. Amit Dvir.\\npublications\\n{\"Negotiation Strategies for Agents with Ordinal Preferences: Theoretical Analysis and Human Study\". Artiﬁcial\\nIntelligence, Elsevier 2024\\n{\"STWSN: A Novel Secure Distributed Transport Protocol for Wireless Sensor Networks\". Dr. Amit Dvir (published\\nin IJCS18’)\\n{\"Negotiation Strategies for Agents with Ordinal Preferences\",Thesis. supervision of Prof. Sarit Krus and Dr.\\nNoam Hazon. (published in COMSOC18’ and IJCAI18’)\\n{\"Heterogeneous SDN controller placement problem—The Wi-Fi and 4G LTE-U case\" A. Zilberman at el.'"
      ]
     },
     "execution_count": 66,
     "metadata": {},
     "output_type": "execute_result"
    }
   ],
   "source": [
    "validate_and_extract_input(first_compliation[0]['messages'])"
   ]
  },
  {
   "cell_type": "code",
   "execution_count": 63,
   "metadata": {},
   "outputs": [
    {
     "data": {
      "text/plain": [
       "['{\"personal_info\": {\"firstname\": \"Sefi\", \"lastname\": \"Erlich\", \"email\": \"berlichsefi@gmail.com\", \"phone\": \"+972 524 307 093\", \"address\": \"TLV, Israel - willing to relocate\", \"linkedin\": {\"link\": \"\", \"username\": []}, \"github\": {\"link\": \"github.com/erlichsefi\", \"username\": [\"erlichsefi\"]}, \"additional_websites\": []}, \"education\": [{\"degree\": \"M.Sc Computer Science\", \"institution\": \"Ariel University\", \"location\": \"Ariel\", \"start_date\": \"2016\", \"graduation_date\": \"2018\", \"grade\": \"93\"}, {\"degree\": \"B.Sc Mathematics and Computer Science\", \"institution\": \"Ariel University\", \"location\": \"Ariel\", \"start_date\": \"2013\", \"graduation_date\": \"2016\", \"grade\": \"92.7\"}], \"experience\": [{\"title\": \"Lead Data Scientist\", \"company\": \"Salesforce\", \"location\": \"Tel-Aviv/Remote\", \"start_date\": \"Jan 2020\", \"end_date\": \"Present\", \"responsibilities\": [\"Workforce Management: E2E Data Scientist (customers until back-end) Multivariate Time Series forecasting Service\", \"Development for an E2E dockerized pipeline for Model Deployment and Serving\"], \"keywords\": [\"Time Series forecasting\", \"Machine Learning\", \"Model Deployment\", \"NLP\"]}, {\"title\": \"Data Scientist\", \"company\": \"ClickSoftware (Acquired by Salesforce)\", \"location\": \"Petah Tikva\", \"start_date\": \"Feb 2019\", \"end_date\": \"Jan 2020\", \"responsibilities\": [\"Working on Multivariate Time Series forecasting in a Multi-tenant environment\", \"Development of an e2e dockerized pipeline\"], \"keywords\": [\"Time Series forecasting\", \"AWS\", \"Keras\", \"Tensorflow\"]}, {\"title\": \"AI Researcher\", \"company\": \"Ariel University\", \"location\": \"Ariel\", \"start_date\": \"Nov 2016\", \"end_date\": \"Oct 2018\", \"responsibilities\": [\"Machine learning for football match violence prediction\", \"Classification and enrichment of encrypted traffic Using Machine Learning algorithms\"], \"keywords\": [\"Machine Learning\", \"Algorithmic Game Theory\", \"Research\"]}, {\"title\": \"Research Assistant\", \"company\": \"Ariel University\", \"location\": \"Ariel\", \"start_date\": \"Oct 2014\", \"end_date\": \"Jul 2016\", \"responsibilities\": [\"Researching Malware network behavior using Wireshark and Python\", \"Design and development of a centered intrusion detection system\"], \"keywords\": [\"Malware Analysis\", \"Intrusion Detection\", \"Cybersecurity\"]}], \"skills\": [\"Java\", \"Python\", \"AWS\", \"Machine Learning\", \"NLP\"], \"certifications\": [], \"projects\": [], \"languages\": [\"Hebrew\", \"English\"], \"summary\": \"Lead Applied Data Scientist with experience of over five years in the tech industry in Time Series, NLP, and Generative. Four years of experience in academic research in ML and algorithmic game theory. Entrepreneur mindset.\", \"achievements\": [], \"publications\": [{\"title\": \"Negotiation Strategies for Agents with Ordinal Preferences: Theoretical Analysis and Human Study\", \"publish_date\": \"2024\", \"description\": \"Artificial Intelligence, Elsevier\", \"publication\": \"\", \"link\": \"\"}, {\"title\": \"STWSN: A Novel Secure Distributed Transport Protocol for Wireless Sensor Networks\", \"publish_date\": \"IJCS18\", \"description\": \"Dr. Amit Dvir\", \"publication\": \"\", \"link\": \"\"}, {\"title\": \"Negotiation Strategies for Agents with Ordinal Preferences\", \"publish_date\": \"Thesis\", \"description\": \"supervision of Prof. Sarit Krus and Dr. Noam Hazon\", \"publication\": \"\", \"link\": \"\"}, {\"title\": \"Heterogeneous SDN controller placement problem\\\\u2014The Wi-Fi and 4G LTE-U case\", \"publish_date\": \"\", \"description\": \"A. Zilberman at el.\", \"publication\": \"\", \"link\": \"\"}]}',\n",
       " '{\"personal_info\": {\"firstname\": \"Se\\\\ufb01\", \"lastname\": \"Erlich\", \"email\": \"Berlichse\\\\ufb01@gmail.com\", \"phone\": \"+972 524 307 093\", \"address\": \"TLV, Israel - willing to relocate\", \"linkedin\": {\"link\": \"\", \"username\": []}, \"github\": {\"link\": \"github.com/erlichse\\\\ufb01\", \"username\": [\"erlichse\\\\ufb01\"]}, \"additional_websites\": []}, \"education\": [{\"degree\": \"M.Sc Computer Science\", \"institution\": \"Ariel University\", \"location\": \"Ariel\", \"start_date\": \"2016\", \"graduation_date\": \"2018\", \"grade\": \"93\"}, {\"degree\": \"B.Sc Mathematics and Computer Science\", \"institution\": \"Ariel University\", \"location\": \"Ariel\", \"start_date\": \"2013\", \"graduation_date\": \"2016\", \"grade\": \"92.7\"}], \"experience\": [{\"title\": \"Lead Data Scientist\", \"company\": \"Salesforce\", \"location\": \"Tel-Aviv/Remote\", \"start_date\": \"Jan 2020\", \"end_date\": \"Present\", \"responsibilities\": [\"Workforce Management: E2E Data Scientist (customers until back-end) Multivariate Time Series forecasting Service\", \"Development for an E2E dockerized pipeline for Model Deployment and Serving\"], \"keywords\": [\"Mongo\", \"Docker\", \"Python\", \"Sklearn\", \"Pandas\", \"Numpy\", \"Git\"]}, {\"title\": \"Data Scientist\", \"company\": \"ClickSoftware (Acquired by Salesforce)\", \"location\": \"Petah Tikva\", \"start_date\": \"Feb 2019\", \"end_date\": \"Jan 2020\", \"responsibilities\": [\"Working on Multivariate Time Series forecasting in a Multi-tenant environment\", \"Development of an e2e dockerized pipeline (periodic training, data processing, and serving)\"], \"keywords\": [\"AWS\", \"Docker\", \"Python\", \"Keras\", \"Tensorflow\", \"Dask\", \"Git\"]}, {\"title\": \"AI Researcher\", \"company\": \"Ariel University\", \"location\": \"Ariel\", \"start_date\": \"Nov 2016\", \"end_date\": \"Oct 2018\", \"responsibilities\": [\"Machine learning for football match violence prediction\", \"Classification and enrichment of encrypted traffic Using Machine Learning algorithms\"], \"keywords\": []}, {\"title\": \"Research Assistant\", \"company\": \"Ariel University\", \"location\": \"Ariel\", \"start_date\": \"Oct 2014\", \"end_date\": \"Jul 2016\", \"responsibilities\": [\"Researching Malware network behavior using Wireshark and Python\", \"Design and development of a centered intrusion detection system in Java and Python\"], \"keywords\": [\"Wireshark\", \"Python\", \"Java\", \"Multiparty Computation\", \"DETER\"]}], \"skills\": [\"Java\", \"Python\", \"AWS\"], \"certifications\": [], \"projects\": [], \"languages\": [\"Hebrew\", \"English\"], \"summary\": \"Lead Applied Data Scientist with experience of over five years in the tech industry in Time Series, NLP, and Generative. Four years of experience in academic research: Two years of experience in ML and two years in algorithmic game theory research. Additionally, one year as DS Guild manager. Entrepreneur mindset.\", \"achievements\": [{\"achievement\": \"Outstanding Final Project \\\\\"Malware detection system\\\\\"\", \"date\": \"2016\"}], \"publications\": [{\"title\": \"Negotiation Strategies for Agents with Ordinal Preferences: Theoretical Analysis and Human Study\", \"publish_date\": \"2024\", \"description\": \"Artificial Intelligence, Elsevier\", \"publication\": \"\", \"link\": \"\"}, {\"title\": \"STWSN: A Novel Secure Distributed Transport Protocol for Wireless Sensor Networks\", \"publish_date\": \"IJCS18\", \"description\": \"Dr. Amit Dvir\", \"publication\": \"\", \"link\": \"\"}, {\"title\": \"Negotiation Strategies for Agents with Ordinal Preferences\", \"publish_date\": \"Thesis\", \"description\": \"supervision of Prof. Sarit Krus and Dr. Noam Hazon\", \"publication\": \"\", \"link\": \"\"}, {\"title\": \"Heterogeneous SDN controller placement problem\\\\u2014The Wi-Fi and 4G LTE-U case\", \"publish_date\": \"\", \"description\": \"A. Zilberman at el.\", \"publication\": \"\", \"link\": \"\"}]}',\n",
       " '{\"personal_info\": {\"firstname\": \"Se\\\\ufb01\", \"lastname\": \"Erlich\", \"email\": \"Berlichse\\\\ufb01@gmail.com\", \"phone\": \"+972 524 307 093\", \"address\": \"TLV, Israel - willing to relocate\", \"linkedin\": {\"link\": \"\", \"username\": []}, \"github\": {\"link\": \"github.com/erlichse\\\\ufb01\", \"username\": [\"erlichse\\\\ufb01\"]}, \"additional_websites\": []}, \"education\": [{\"degree\": \"M.Sc Computer Science\", \"institution\": \"Ariel University\", \"location\": \"Ariel\", \"start_date\": \"2016\", \"graduation_date\": \"2018\", \"grade\": \"93\"}, {\"degree\": \"B.Sc Mathematics and Computer Science\", \"institution\": \"Ariel University\", \"location\": \"Ariel\", \"start_date\": \"2013\", \"graduation_date\": \"2016\", \"grade\": \"92.7\"}], \"experience\": [{\"title\": \"Lead Data Scientist\", \"company\": \"Salesforce\", \"location\": \"Tel-Aviv/Remote\", \"start_date\": \"Jan 2020\", \"end_date\": \"Present\", \"responsibilities\": [\"Workforce Management: E2E Data Scientist (customers until back-end) Multivariate Time Series forecasting Service\", \"Development for an E2E dockerized pipeline for Model Deployment and Serving\"], \"keywords\": [\"Mongo\", \"Docker\", \"Python\", \"Sklearn\", \"Pandas\", \"Numpy\", \"Git\"]}, {\"title\": \"Data Scientist\", \"company\": \"ClickSoftware (Acquired by Salesforce)\", \"location\": \"Petah Tikva\", \"start_date\": \"Feb 2019\", \"end_date\": \"Jan 2020\", \"responsibilities\": [\"\\\\\"Full Stack\\\\\" Data Scientist, working on Multivariate Time Series forecasting in a Multi-tenant environment\", \"Development of an e2e dockerized pipeline (periodic training, data processing, and serving)\"], \"keywords\": [\"AWS\", \"Docker\", \"Python\", \"Keras\", \"Tensorflow\", \"Dask\", \"Git\"]}, {\"title\": \"AI Researcher\", \"company\": \"Ariel University\", \"location\": \"Ariel\", \"start_date\": \"Nov 2016\", \"end_date\": \"Oct 2018\", \"responsibilities\": [\"\\\\\"Machine learning for football match violence prediction\\\\\"\", \"\\\\\"Classification and enrichment of encrypted traffic Using Machine Learning algorithms\\\\\"\"], \"keywords\": []}, {\"title\": \"Research Assistant\", \"company\": \"Ariel University\", \"location\": \"Ariel\", \"start_date\": \"Oct 2014\", \"end_date\": \"Jul 2016\", \"responsibilities\": [\"Researching Malware network behavior using Wireshark and Python\", \"Design and development of a centered intrusion detection system in Java and Python\"], \"keywords\": [\"Multiparty Computation\", \"Cybersecurity\"]}], \"skills\": [\"Java\", \"Python\", \"AWS\"], \"certifications\": [], \"projects\": [], \"languages\": [\"Hebrew\", \"English\"], \"summary\": \"Lead Applied Data Scientist with experience of over five years in the tech industry in Time Series, NLP, and Generative. Four years of experience in academic research: Two years of experience in ML and two years in algorithmic game theory research. Additionally, one year as DS Guild manager. Entrepreneur mindset.\", \"achievements\": [], \"publications\": [{\"title\": \"Negotiation Strategies for Agents with Ordinal Preferences: Theoretical Analysis and Human Study\", \"publish_date\": \"2024\", \"description\": \"\", \"publication\": \"Artificial Intelligence, Elsevier\", \"link\": \"\"}, {\"title\": \"STWSN: A Novel Secure Distributed Transport Protocol for Wireless Sensor Networks\", \"publish_date\": \"IJCS18\", \"description\": \"\", \"publication\": \"Dr. Amit Dvir\", \"link\": \"\"}, {\"title\": \"Negotiation Strategies for Agents with Ordinal Preferences\", \"publish_date\": \"Thesis\", \"description\": \"\", \"publication\": \"supervision of Prof. Sarit Krus and Dr. Noam Hazon\", \"link\": \"\"}, {\"title\": \"Heterogeneous SDN controller placement problem\\\\u2014The Wi-Fi and 4G LTE-U case\", \"publish_date\": \"\", \"description\": \"A. Zilberman at el.\", \"publication\": \"\", \"link\": \"\"}]}',\n",
       " '{\"personal_info\": {\"firstname\": \"Se\\\\ufb01\", \"lastname\": \"Erlich\", \"email\": \"Berlichse\\\\ufb01@gmail.com\", \"phone\": \"+972 524 307 093\", \"address\": \"TLV, Israel - willing to relocate\", \"linkedin\": {\"link\": \"\", \"username\": []}, \"github\": {\"link\": \"github.com/erlichse\\\\ufb01\", \"username\": [\"erlichse\\\\ufb01\"]}, \"additional_websites\": []}, \"education\": [{\"degree\": \"M.Sc Computer Science\", \"institution\": \"Ariel University\", \"location\": \"Ariel\", \"start_date\": \"2016\", \"graduation_date\": \"2018\", \"grade\": \"93\"}, {\"degree\": \"B.Sc Mathematics and Computer Science\", \"institution\": \"Ariel University\", \"location\": \"Ariel\", \"start_date\": \"2013\", \"graduation_date\": \"2016\", \"grade\": \"92.7\"}], \"experience\": [{\"title\": \"Lead Data Scientist\", \"company\": \"Salesforce\", \"location\": \"Tel-Aviv/Remote\", \"start_date\": \"Jan 2020\", \"end_date\": \"Present\", \"responsibilities\": [\"Workforce Management: E2E Data Scientist (customers until back-end) Multivariate Time Series forecasting Service\", \"Development for an E2E dockerized pipeline for Model Deployment and Serving\"], \"keywords\": [\"Mongo\", \"Docker\", \"python\", \"Sklearn\", \"Pandas\", \"Numpy\", \"Git\"]}, {\"title\": \"Data Scientist\", \"company\": \"ClickSoftware (Acquired by Salesforce)\", \"location\": \"Petah Tikva\", \"start_date\": \"Feb 2019\", \"end_date\": \"Jan 2020\", \"responsibilities\": [\"Working on Multivariate Time Series forecasting in a Multi-tenant environment\", \"Development of an e2e dockerized pipeline (periodic training, data processing, and serving)\"], \"keywords\": [\"AWS\", \"Docker\", \"python\", \"Keras\", \"Tensorflow\", \"Dask\", \"Git\"]}, {\"title\": \"AI Researcher\", \"company\": \"Ariel University\", \"location\": \"Ariel\", \"start_date\": \"Nov 2016\", \"end_date\": \"Oct 2018\", \"responsibilities\": [\"Machine learning for football match violence prediction\", \"Classification and enrichment of encrypted traffic Using Machine Learning algorithms\"], \"keywords\": []}, {\"title\": \"Research Assistant\", \"company\": \"Ariel University\", \"location\": \"Ariel\", \"start_date\": \"Oct 2014\", \"end_date\": \"Jul 2016\", \"responsibilities\": [\"Researching Malware network behavior using Wireshark and Python\", \"Design and development of a centered intrusion detection system in Java and Python\"], \"keywords\": [\"Multiparty Computation\", \"DETER (Cybersecurity cloud)\"]}], \"skills\": [\"Java\", \"Python\", \"AWS\"], \"certifications\": [], \"projects\": [], \"languages\": [\"Hebrew\", \"English\"], \"summary\": \"Lead Applied Data Scientist with experience of over five years in the tech industry in Time Series, NLP, and Generative. Four years of experience in academic research: Two years of experience in ML and two years in algorithmic game theory research. Additionally, one year as DS Guild manager. Entrepreneur mindset.\", \"achievements\": [], \"publications\": [{\"title\": \"Negotiation Strategies for Agents with Ordinal Preferences: Theoretical Analysis and Human Study\", \"publish_date\": \"2024\", \"description\": \"Artificial Intelligence, Elsevier\", \"publication\": \"\", \"link\": \"\"}, {\"title\": \"STWSN: A Novel Secure Distributed Transport Protocol for Wireless Sensor Networks\", \"publish_date\": \"IJCS18\", \"description\": \"Dr. Amit Dvir\", \"publication\": \"\", \"link\": \"\"}, {\"title\": \"Negotiation Strategies for Agents with Ordinal Preferences\", \"publish_date\": \"Thesis\", \"description\": \"supervision of Prof. Sarit Krus and Dr. Noam Hazon\", \"publication\": \"\", \"link\": \"\"}, {\"title\": \"Heterogeneous SDN controller placement problem\\\\u2014The Wi-Fi and 4G LTE-U case\", \"publish_date\": \"\", \"description\": \"A. Zilberman at el.\", \"publication\": \"\", \"link\": \"\"}]}',\n",
       " '{\"personal_info\": {\"firstname\": \"Se\\\\ufb01\", \"lastname\": \"Erlich\", \"email\": \"Berlichse\\\\ufb01@gmail.com\", \"phone\": \"+972 524 307 093\", \"address\": \"TLV, Israel - willing to relocate\", \"linkedin\": {\"link\": \"\", \"username\": []}, \"github\": {\"link\": \"github.com/erlichse\\\\ufb01\", \"username\": [\"erlichse\\\\ufb01\"]}, \"additional_websites\": []}, \"education\": [{\"degree\": \"M.Sc Computer Science\", \"institution\": \"Ariel University\", \"location\": \"Ariel\", \"start_date\": \"2016\", \"graduation_date\": \"2018\", \"grade\": \"93\"}, {\"degree\": \"B.Sc Mathematics and Computer Science\", \"institution\": \"Ariel University\", \"location\": \"Ariel\", \"start_date\": \"2013\", \"graduation_date\": \"2016\", \"grade\": \"92.7\"}], \"experience\": [{\"title\": \"Lead Data Scientist\", \"company\": \"Salesforce\", \"location\": \"Tel-Aviv/Remote\", \"start_date\": \"Jan 2020\", \"end_date\": \"Present\", \"responsibilities\": [\"Workforce Management: E2E Data Scientist (customers until back-end) Multivariate Time Series forecasting Service\", \"Development for an E2E dockerized pipeline for Model Deployment and Serving\"], \"keywords\": [\"Mongo\", \"Docker\", \"Python\", \"Sklearn\", \"Pandas\", \"Numpy\", \"Git\"]}, {\"title\": \"Data Scientist\", \"company\": \"ClickSoftware (Acquired by Salesforce)\", \"location\": \"Petah Tikva\", \"start_date\": \"Feb 2019\", \"end_date\": \"Jan 2020\", \"responsibilities\": [\"Working on Multivariate Time Series forecasting in a Multi-tenant environment\", \"Development of an e2e dockerized pipeline (periodic training, data processing, and serving)\"], \"keywords\": [\"AWS\", \"Docker\", \"Python\", \"Keras\", \"Tensorflow\", \"Dask\", \"Git\"]}, {\"title\": \"AI Researcher\", \"company\": \"Ariel University\", \"location\": \"Ariel\", \"start_date\": \"Nov 2016\", \"end_date\": \"Oct 2018\", \"responsibilities\": [\"Machine learning for football match violence prediction\", \"Classification and enrichment of encrypted traffic Using Machine Learning algorithms\"], \"keywords\": []}, {\"title\": \"Research Assistant\", \"company\": \"Ariel University\", \"location\": \"Ariel\", \"start_date\": \"Oct 2014\", \"end_date\": \"Jul 2016\", \"responsibilities\": [\"Researching Malware network behavior using Wireshark and Python\", \"Design and development of a centered intrusion detection system in Java and Python\"], \"keywords\": [\"Wireshark\", \"Python\", \"Java\", \"Multiparty Computation\", \"DETER\"]}], \"skills\": [\"Java\", \"Python\", \"AWS\"], \"certifications\": [], \"projects\": [], \"languages\": [\"Hebrew\", \"English\"], \"summary\": \"Lead Applied Data Scientist with experience of over five years in the tech industry in Time Series, NLP, and Generative. Four years of experience in academic research: Two years of experience in ML and two years in algorithmic game theory research. Additionally, one year as DS Guild manager. Entrepreneur mindset.\", \"achievements\": [{\"achievement\": \"Outstanding Final Project \\\\\"Malware detection system\\\\\"\", \"date\": \"2016\"}, {\"achievement\": \"Twice Dean Honor, Magna Cum Laude\", \"date\": \"2016\"}], \"publications\": [{\"title\": \"Negotiation Strategies for Agents with Ordinal Preferences: Theoretical Analysis and Human Study\", \"publish_date\": \"2024\", \"description\": \"\", \"publication\": \"Artificial Intelligence, Elsevier\", \"link\": \"\"}, {\"title\": \"STWSN: A Novel Secure Distributed Transport Protocol for Wireless Sensor Networks\", \"publish_date\": \"IJCS18\", \"description\": \"\", \"publication\": \"Dr. Amit Dvir\", \"link\": \"\"}, {\"title\": \"Negotiation Strategies for Agents with Ordinal Preferences\", \"publish_date\": \"Thesis\", \"description\": \"supervision of Prof. Sarit Krus and Dr. Noam Hazon\", \"publication\": \"COMSOC18 and IJCAI18\", \"link\": \"\"}, {\"title\": \"Heterogeneous SDN controller placement problem\\\\u2014The Wi-Fi and 4G LTE-U case\", \"publish_date\": \"\", \"description\": \"A. Zilberman at el.\", \"publication\": \"\", \"link\": \"\"}]}']"
      ]
     },
     "execution_count": 63,
     "metadata": {},
     "output_type": "execute_result"
    }
   ],
   "source": [
    "[json.dumps(pdf_reading['generations']) for pdf_reading in first_compliation]"
   ]
  },
  {
   "cell_type": "code",
   "execution_count": null,
   "metadata": {},
   "outputs": [],
   "source": []
  }
 ],
 "metadata": {
  "kernelspec": {
   "display_name": "Python 3 (ipykernel)",
   "language": "python",
   "name": "python3"
  },
  "language_info": {
   "codemirror_mode": {
    "name": "ipython",
    "version": 3
   },
   "file_extension": ".py",
   "mimetype": "text/x-python",
   "name": "python",
   "nbconvert_exporter": "python",
   "pygments_lexer": "ipython3",
   "version": "3.11.9"
  }
 },
 "nbformat": 4,
 "nbformat_minor": 2
}
